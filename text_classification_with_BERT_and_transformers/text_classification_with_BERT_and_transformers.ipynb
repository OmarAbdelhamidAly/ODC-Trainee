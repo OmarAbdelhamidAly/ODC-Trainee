{
 "cells": [
  {
   "cell_type": "markdown",
   "metadata": {
    "id": "f7bHKGiOc5fD"
   },
   "source": [
    "Download the News Category dataset from here: https://metatext.io/datasets/news-category-dataset then upload it to your google drive in a folder called \"datasets\""
   ]
  },
  {
   "cell_type": "code",
   "execution_count": 1,
   "metadata": {
    "id": "K95N7-KwdIEm"
   },
   "outputs": [],
   "source": [
    "file_path = r'C:\\Users\\Lenovo\\Downloads\\NLP task\\News_Category_Dataset_v3.json'"
   ]
  },
  {
   "cell_type": "code",
   "execution_count": 2,
   "metadata": {},
   "outputs": [
    {
     "name": "stdout",
     "output_type": "stream",
     "text": [
      "Number of news articles in each category (sorted):\n",
      "POLITICS: 35602\n",
      "WELLNESS: 17945\n",
      "ENTERTAINMENT: 17362\n",
      "TRAVEL: 9900\n",
      "STYLE & BEAUTY: 9814\n",
      "PARENTING: 8791\n",
      "HEALTHY LIVING: 6694\n",
      "QUEER VOICES: 6347\n",
      "FOOD & DRINK: 6340\n",
      "BUSINESS: 5992\n",
      "COMEDY: 5400\n",
      "SPORTS: 5077\n",
      "BLACK VOICES: 4583\n",
      "HOME & LIVING: 4320\n",
      "PARENTS: 3955\n",
      "THE WORLDPOST: 3664\n",
      "WEDDINGS: 3653\n",
      "WOMEN: 3572\n",
      "CRIME: 3562\n",
      "IMPACT: 3484\n",
      "DIVORCE: 3426\n",
      "WORLD NEWS: 3299\n",
      "MEDIA: 2944\n",
      "WEIRD NEWS: 2777\n",
      "GREEN: 2622\n",
      "WORLDPOST: 2579\n",
      "RELIGION: 2577\n",
      "STYLE: 2254\n",
      "SCIENCE: 2206\n",
      "TECH: 2104\n",
      "TASTE: 2096\n",
      "MONEY: 1756\n",
      "ARTS: 1509\n",
      "ENVIRONMENT: 1444\n",
      "FIFTY: 1401\n",
      "GOOD NEWS: 1398\n",
      "U.S. NEWS: 1377\n",
      "ARTS & CULTURE: 1339\n",
      "COLLEGE: 1144\n",
      "LATINO VOICES: 1130\n",
      "CULTURE & ARTS: 1074\n",
      "EDUCATION: 1014\n",
      "[35602, 17945, 17362, 9900, 9814, 8791, 6694, 6347, 6340, 5992, 5400, 5077, 4583, 4320, 3955, 3664, 3653, 3572, 3562, 3484, 3426, 3299, 2944, 2777, 2622, 2579, 2577, 2254, 2206, 2104, 2096, 1756, 1509, 1444, 1401, 1398, 1377, 1339, 1144, 1130, 1074, 1014]\n"
     ]
    }
   ],
   "source": [
    "import json\n",
    "from collections import Counter\n",
    "\n",
    "def count_and_sort_news_by_category(file_path):\n",
    "    \"\"\"\n",
    "    Count and sort the number of news articles in each category.\n",
    "    \n",
    "    Args:\n",
    "        file_path (str): Path to the JSON file containing the news data.\n",
    "    \n",
    "    Returns:\n",
    "        list: A sorted list of tuples (category, count) in descending order.\n",
    "    \"\"\"\n",
    "    # Read the news items from the file\n",
    "    news = []\n",
    "    with open(file_path, 'r') as file:\n",
    "        for line in file:\n",
    "            json_object = json.loads(line)\n",
    "            news.append(json_object)\n",
    "    \n",
    "    # Extract categories\n",
    "    categories = [item['category'] for item in news if 'category' in item]\n",
    "    \n",
    "    # Count occurrences of each category\n",
    "    category_counts = Counter(categories)\n",
    "    \n",
    "    # Sort the categories by count in descending order\n",
    "    sorted_categories = sorted(category_counts.items(), key=lambda x: x[1], reverse=True)\n",
    "    \n",
    "    return sorted_categories\n",
    "\n",
    "# Path to your dataset file\n",
    "file_path = \"News_Category_Dataset_v3.json\"  # Replace with your actual file path\n",
    "\n",
    "# Count and sort the news articles by category\n",
    "sorted_category_counts = count_and_sort_news_by_category(file_path)\n",
    "w=[]\n",
    "# Print the results\n",
    "print(\"Number of news articles in each category (sorted):\")\n",
    "for category, count in sorted_category_counts:\n",
    "    w.append(count)\n",
    "    print(f\"{category}: {count}\")\n",
    "print(w)"
   ]
  },
  {
   "cell_type": "code",
   "execution_count": 3,
   "metadata": {
    "colab": {
     "base_uri": "https://localhost:8080/"
    },
    "id": "FDHoiPPCd3u-",
    "outputId": "446eef39-1121-44e5-e028-201bc7809f00"
   },
   "outputs": [
    {
     "name": "stdout",
     "output_type": "stream",
     "text": [
      "Number of news items processed: 22000\n",
      "Category counts after filtering:\n",
      "U.S. NEWS: 1000\n",
      "COMEDY: 1000\n",
      "PARENTING: 1000\n",
      "WORLD NEWS: 1000\n",
      "CULTURE & ARTS: 1000\n",
      "TECH: 1000\n",
      "SPORTS: 1000\n",
      "ENTERTAINMENT: 1000\n",
      "POLITICS: 1000\n",
      "WEIRD NEWS: 1000\n",
      "ENVIRONMENT: 1000\n",
      "EDUCATION: 1000\n",
      "CRIME: 1000\n",
      "SCIENCE: 1000\n",
      "WELLNESS: 1000\n",
      "BUSINESS: 1000\n",
      "STYLE & BEAUTY: 1000\n",
      "FOOD & DRINK: 1000\n",
      "MEDIA: 1000\n",
      "QUEER VOICES: 1000\n",
      "HOME & LIVING: 1000\n",
      "WOMEN: 1000\n",
      "[1000, 1000, 1000, 1000, 1000, 1000, 1000, 1000, 1000, 1000, 1000, 1000, 1000, 1000, 1000, 1000, 1000, 1000, 1000, 1000, 1000, 1000]\n"
     ]
    }
   ],
   "source": [
    "import json\n",
    "from collections import defaultdict, Counter\n",
    "\n",
    "def process_file(file_path, limit=22000, min_samples_per_category=30, max_samples_per_category=1000):\n",
    "    \"\"\"\n",
    "    Processes the file to filter and balance news articles by category.\n",
    "    \n",
    "    Args:\n",
    "        file_path (str): Path to the JSON file containing the news data.\n",
    "        limit (int): Total number of samples to process.\n",
    "        min_samples_per_category (int): Minimum number of samples per category.\n",
    "        max_samples_per_category (int): Maximum number of samples per category.\n",
    "    \n",
    "    Returns:\n",
    "        list: List of valid news articles meeting the criteria.\n",
    "    \"\"\"\n",
    "    # Read the news items from the file\n",
    "    news = []\n",
    "    with open(file_path, 'r') as file:\n",
    "        for line in file:\n",
    "            json_object = json.loads(line)\n",
    "            news.append(json_object)\n",
    "    \n",
    "    # Group news by category\n",
    "    categorized_news = defaultdict(list)\n",
    "    for item in news:\n",
    "        category = item.get('category')\n",
    "        if category:\n",
    "            categorized_news[category].append(item)\n",
    "    \n",
    "    # Only include categories with at least `min_samples_per_category` articles and limit to `max_samples_per_category`\n",
    "    valid_news = []\n",
    "    for category, items in categorized_news.items():\n",
    "        if len(items) >= min_samples_per_category:\n",
    "            sampled_items = items[:max_samples_per_category]  # Limit to max samples per category\n",
    "            valid_news.extend(sampled_items)\n",
    "    \n",
    "    # Limit the total number of news articles to `limit`\n",
    "    if len(valid_news) > limit:\n",
    "        valid_news = valid_news[:limit]  # Slice to ensure the limit is not exceeded\n",
    "    \n",
    "    return valid_news\n",
    "\n",
    "# Path to your dataset file\n",
    "file_path = \"News_Category_Dataset_v3.json\"  # Replace with your actual file path\n",
    "q = []\n",
    "\n",
    "# Process the file with the new parameters\n",
    "news = process_file(file_path, limit=22000, min_samples_per_category=30, max_samples_per_category=1000)\n",
    "\n",
    "# Display the results\n",
    "print(f\"Number of news items processed: {len(news)}\")\n",
    "category_counts = Counter([item['category'] for item in news])\n",
    "print(\"Category counts after filtering:\")\n",
    "for category, count in category_counts.items():\n",
    "    q.append(count)\n",
    "    print(f\"{category}: {count}\")\n",
    "print(q)\n"
   ]
  },
  {
   "cell_type": "code",
   "execution_count": 5,
   "metadata": {
    "colab": {
     "base_uri": "https://localhost:8080/"
    },
    "id": "TT74ji6Wd-J6",
    "outputId": "1817ad83-71ee-4ad4-9f78-d91a69fad568"
   },
   "outputs": [
    {
     "data": {
      "text/plain": [
       "{'link': 'https://www.huffpost.com/entry/bill-maher-fox-news-migrant-caravan_n_5bd407a4e4b055bc948c103f',\n",
       " 'headline': 'Bill Maher Shreds Fox News’ Coverage Of The Migrant Caravan',\n",
       " 'category': 'COMEDY',\n",
       " 'short_description': '\"Can\\'t we be a little kinder?\"',\n",
       " 'authors': 'Lee Moran',\n",
       " 'date': '2018-10-27'}"
      ]
     },
     "execution_count": 5,
     "metadata": {},
     "output_type": "execute_result"
    }
   ],
   "source": [
    "news[1200]"
   ]
  },
  {
   "cell_type": "code",
   "execution_count": 6,
   "metadata": {
    "colab": {
     "base_uri": "https://localhost:8080/"
    },
    "id": "3R5A54jZfRF7",
    "outputId": "558bd12b-54b9-4036-cae1-24e719169562"
   },
   "outputs": [
    {
     "data": {
      "text/plain": [
       "[('Over 4 Million Americans Roll Up Sleeves For Omicron-Targeted COVID Boosters || Health experts said it is too early to predict whether demand would match up with the 171 million doses of the new boosters the U.S. ordered for the fall.',\n",
       "  'U.S. NEWS'),\n",
       " (\"American Airlines Flyer Charged, Banned For Life After Punching Flight Attendant On Video || He was subdued by passengers and crew when he fled to the back of the aircraft after the confrontation, according to the U.S. attorney's office in Los Angeles.\",\n",
       "  'U.S. NEWS'),\n",
       " ('Woman Who Called Cops On Black Bird-Watcher Loses Lawsuit Against Ex-Employer || Amy Cooper accused investment firm Franklin Templeton of unfairly firing her and branding her a racist after video of the Central Park encounter went viral.',\n",
       "  'U.S. NEWS'),\n",
       " ('Cleaner Was Dead In Belk Bathroom For 4 Days Before Body Found: Police || The 63-year-old woman was seen working at the South Carolina store on Thursday. She was found dead Monday after her family reported her missing, authorities said.',\n",
       "  'U.S. NEWS'),\n",
       " ('Reporter Gets Adorable Surprise From Her Boyfriend While Live On TV || \"Who\\'s that behind you?\" an anchor for New York’s PIX11 asked journalist Michelle Ross as she finished up an interview.',\n",
       "  'U.S. NEWS')]"
      ]
     },
     "execution_count": 6,
     "metadata": {},
     "output_type": "execute_result"
    }
   ],
   "source": [
    "text_cat_pairs = []\n",
    "\n",
    "for news_item in news:\n",
    "    headline = news_item.get(\"headline\")\n",
    "    short_description = news_item.get(\"short_description\")\n",
    "    text = headline + \" || \" + short_description\n",
    "    category = news_item.get(\"category\")\n",
    "    text_cat_pairs.append((text, category))\n",
    "\n",
    "text_cat_pairs[:5]"
   ]
  },
  {
   "cell_type": "code",
   "execution_count": 7,
   "metadata": {
    "id": "LbpNSOaFf1wg"
   },
   "outputs": [],
   "source": [
    "# iterate over text_cat_pairs, which is a list of tuples. Looks at the second element in the tuple. Generate a label_to_index dict and an index_to_label dict from those labels.\n",
    "\n",
    "label_to_index = {}\n",
    "index_to_label = {}\n",
    "i = 0\n",
    "\n",
    "for (_, label) in text_cat_pairs:\n",
    "    if label not in label_to_index:\n",
    "        label_to_index[label] = i\n",
    "        index_to_label[i] = label\n",
    "        i += 1"
   ]
  },
  {
   "cell_type": "code",
   "execution_count": 8,
   "metadata": {
    "colab": {
     "base_uri": "https://localhost:8080/"
    },
    "id": "Mg2BVW8hVeZC",
    "outputId": "88a0fa32-2470-4bb2-df85-4456fab38247"
   },
   "outputs": [
    {
     "data": {
      "text/plain": [
       "{'U.S. NEWS': 0,\n",
       " 'COMEDY': 1,\n",
       " 'PARENTING': 2,\n",
       " 'WORLD NEWS': 3,\n",
       " 'CULTURE & ARTS': 4,\n",
       " 'TECH': 5,\n",
       " 'SPORTS': 6,\n",
       " 'ENTERTAINMENT': 7,\n",
       " 'POLITICS': 8,\n",
       " 'WEIRD NEWS': 9,\n",
       " 'ENVIRONMENT': 10,\n",
       " 'EDUCATION': 11,\n",
       " 'CRIME': 12,\n",
       " 'SCIENCE': 13,\n",
       " 'WELLNESS': 14,\n",
       " 'BUSINESS': 15,\n",
       " 'STYLE & BEAUTY': 16,\n",
       " 'FOOD & DRINK': 17,\n",
       " 'MEDIA': 18,\n",
       " 'QUEER VOICES': 19,\n",
       " 'HOME & LIVING': 20,\n",
       " 'WOMEN': 21}"
      ]
     },
     "execution_count": 8,
     "metadata": {},
     "output_type": "execute_result"
    }
   ],
   "source": [
    "label_to_index"
   ]
  },
  {
   "cell_type": "code",
   "execution_count": 9,
   "metadata": {
    "colab": {
     "base_uri": "https://localhost:8080/"
    },
    "id": "oy7LvT2BVz8t",
    "outputId": "9ca75d44-8b3f-45b4-b933-941b5d447b8e"
   },
   "outputs": [
    {
     "data": {
      "text/plain": [
       "{0: 'U.S. NEWS',\n",
       " 1: 'COMEDY',\n",
       " 2: 'PARENTING',\n",
       " 3: 'WORLD NEWS',\n",
       " 4: 'CULTURE & ARTS',\n",
       " 5: 'TECH',\n",
       " 6: 'SPORTS',\n",
       " 7: 'ENTERTAINMENT',\n",
       " 8: 'POLITICS',\n",
       " 9: 'WEIRD NEWS',\n",
       " 10: 'ENVIRONMENT',\n",
       " 11: 'EDUCATION',\n",
       " 12: 'CRIME',\n",
       " 13: 'SCIENCE',\n",
       " 14: 'WELLNESS',\n",
       " 15: 'BUSINESS',\n",
       " 16: 'STYLE & BEAUTY',\n",
       " 17: 'FOOD & DRINK',\n",
       " 18: 'MEDIA',\n",
       " 19: 'QUEER VOICES',\n",
       " 20: 'HOME & LIVING',\n",
       " 21: 'WOMEN'}"
      ]
     },
     "execution_count": 9,
     "metadata": {},
     "output_type": "execute_result"
    }
   ],
   "source": [
    "index_to_label"
   ]
  },
  {
   "cell_type": "code",
   "execution_count": 10,
   "metadata": {
    "colab": {
     "base_uri": "https://localhost:8080/"
    },
    "id": "BMetlxxkVghN",
    "outputId": "a916a820-455d-4f8c-f03a-6ff6476da568"
   },
   "outputs": [
    {
     "name": "stdout",
     "output_type": "stream",
     "text": [
      "HOME & LIVING\n",
      "tensor(20)\n"
     ]
    }
   ],
   "source": [
    "import torch\n",
    "\n",
    "def convert_labels(label):\n",
    "  return torch.tensor(label_to_index[label])\n",
    "\n",
    "\n",
    "labels = [cat for (text, cat) in text_cat_pairs]\n",
    "print(labels[20000])\n",
    "print(convert_labels(labels[20000]))"
   ]
  },
  {
   "cell_type": "code",
   "execution_count": 11,
   "metadata": {
    "colab": {
     "base_uri": "https://localhost:8080/"
    },
    "id": "XdDwBSjuX4mi",
    "outputId": "816fd1c2-aefa-45da-c3b2-326b240eb3e4"
   },
   "outputs": [
    {
     "data": {
      "text/plain": [
       "torch.Size([22000])"
      ]
     },
     "execution_count": 11,
     "metadata": {},
     "output_type": "execute_result"
    }
   ],
   "source": [
    "labels = [convert_labels(label) for label in labels]\n",
    "stacked_tensors_y = torch.stack(labels)\n",
    "stacked_tensors_y.shape"
   ]
  },
  {
   "cell_type": "code",
   "execution_count": 12,
   "metadata": {
    "id": "u8bDhor8Yyws"
   },
   "outputs": [],
   "source": [
    "stacked_tensors_y = stacked_tensors_y.long()"
   ]
  },
  {
   "cell_type": "code",
   "execution_count": 13,
   "metadata": {
    "id": "mXjlQrmFZcYx"
   },
   "outputs": [
    {
     "name": "stderr",
     "output_type": "stream",
     "text": [
      "e:\\MY projects\\LangSHain\\venv\\lib\\site-packages\\tqdm\\auto.py:21: TqdmWarning: IProgress not found. Please update jupyter and ipywidgets. See https://ipywidgets.readthedocs.io/en/stable/user_install.html\n",
      "  from .autonotebook import tqdm as notebook_tqdm\n"
     ]
    }
   ],
   "source": [
    "from transformers import BertTokenizer, BertModel\n",
    "\n",
    "# Load pre-trained model tokenizer and embedding model\n",
    "tokenizer = BertTokenizer.from_pretrained('bert-base-uncased')\n",
    "embedding_model = BertModel.from_pretrained('bert-base-uncased')"
   ]
  },
  {
   "cell_type": "code",
   "execution_count": 14,
   "metadata": {
    "colab": {
     "base_uri": "https://localhost:8080/",
     "height": 53
    },
    "id": "WK1C29TTXKJ8",
    "outputId": "38ecfb3c-e98f-450a-d49c-10b2c09747fc"
   },
   "outputs": [
    {
     "data": {
      "text/plain": [
       "'Reporter Gets Adorable Surprise From Her Boyfriend While Live On TV || \"Who\\'s that behind you?\" an anchor for New York’s PIX11 asked journalist Michelle Ross as she finished up an interview.'"
      ]
     },
     "execution_count": 14,
     "metadata": {},
     "output_type": "execute_result"
    }
   ],
   "source": [
    "ex = text_cat_pairs[4][0]\n",
    "ex"
   ]
  },
  {
   "cell_type": "code",
   "execution_count": 15,
   "metadata": {
    "colab": {
     "base_uri": "https://localhost:8080/"
    },
    "id": "zs3upvENXOsL",
    "outputId": "36ffd64b-e830-4232-814f-31d6e48316e7"
   },
   "outputs": [
    {
     "name": "stdout",
     "output_type": "stream",
     "text": [
      "['[CLS]', 'reporter', 'gets', 'adorable', 'surprise', 'from', 'her', 'boyfriend', 'while', 'live', 'on', 'tv', '|', '|', '\"', 'who', \"'\", 's', 'that', 'behind', 'you', '?', '\"', 'an', 'anchor', 'for', 'new', 'york', '’', 's', 'pi', '##x', '##11', 'asked', 'journalist', 'michelle', 'ross', 'as', 'she', 'finished', 'up', 'an', 'interview', '.', '[SEP]']\n"
     ]
    }
   ],
   "source": [
    "tokens = tokenizer.encode(ex)\n",
    "print([tokenizer.decode([t]) for t in tokens])"
   ]
  },
  {
   "cell_type": "code",
   "execution_count": 16,
   "metadata": {
    "id": "8Wg88AX_ZrGy"
   },
   "outputs": [],
   "source": [
    "def embed_sentence(sentence):\n",
    "  inputs = tokenizer(sentence, return_tensors='pt')\n",
    "  with torch.no_grad():\n",
    "    outputs = embedding_model(**inputs)\n",
    "    embeddings = outputs.last_hidden_state\n",
    "  return embeddings.view(embeddings.size(1), -1)"
   ]
  },
  {
   "cell_type": "code",
   "execution_count": 17,
   "metadata": {
    "colab": {
     "base_uri": "https://localhost:8080/"
    },
    "id": "G-tPPmPhZK13",
    "outputId": "adffd1b1-8f47-432c-9133-e01bd9284273"
   },
   "outputs": [
    {
     "data": {
      "text/plain": [
       "45"
      ]
     },
     "execution_count": 17,
     "metadata": {},
     "output_type": "execute_result"
    }
   ],
   "source": [
    "len(tokens)"
   ]
  },
  {
   "cell_type": "code",
   "execution_count": 18,
   "metadata": {
    "colab": {
     "base_uri": "https://localhost:8080/"
    },
    "id": "57Xz5OKQao_Z",
    "outputId": "59a4e80a-ca93-4844-e0d6-3c8964a9085c"
   },
   "outputs": [
    {
     "data": {
      "text/plain": [
       "torch.Size([45, 768])"
      ]
     },
     "execution_count": 18,
     "metadata": {},
     "output_type": "execute_result"
    }
   ],
   "source": [
    "embedded_example = embed_sentence(ex)\n",
    "embedded_example.shape"
   ]
  },
  {
   "cell_type": "code",
   "execution_count": 21,
   "metadata": {
    "colab": {
     "base_uri": "https://localhost:8080/"
    },
    "id": "JC-C2YOHbA3R",
    "outputId": "4949eaa1-ac30-40ac-9e3c-52c760dcc7f9"
   },
   "outputs": [
    {
     "name": "stdout",
     "output_type": "stream",
     "text": [
      "torch.Size([37, 768])\n"
     ]
    }
   ],
   "source": [
    "embedded_sentences = [embed_sentence(text) for (text, cat) in text_cat_pairs]\n",
    "print(embedded_sentences[-1].shape)"
   ]
  },
  {
   "cell_type": "code",
   "execution_count": 22,
   "metadata": {
    "colab": {
     "base_uri": "https://localhost:8080/"
    },
    "id": "bhdzR6jtZz0n",
    "outputId": "1f37b98f-ddac-4deb-d9d5-14ac061d4c2a"
   },
   "outputs": [
    {
     "data": {
      "text/plain": [
       "22000"
      ]
     },
     "execution_count": 22,
     "metadata": {},
     "output_type": "execute_result"
    }
   ],
   "source": [
    "len(embedded_sentences)"
   ]
  },
  {
   "cell_type": "code",
   "execution_count": 23,
   "metadata": {
    "colab": {
     "base_uri": "https://localhost:8080/"
    },
    "id": "W0pF7zywbauR",
    "outputId": "33f473cc-0bd8-443a-cc53-0a08d37ec5da"
   },
   "outputs": [
    {
     "data": {
      "text/plain": [
       "torch.Size([22000, 125, 768])"
      ]
     },
     "execution_count": 23,
     "metadata": {},
     "output_type": "execute_result"
    }
   ],
   "source": [
    "# Find the maximum length among the embedded sentences\n",
    "max_len = max([x.shape[0] for x in embedded_sentences])\n",
    "\n",
    "# Pad the shorter sentences with zeros\n",
    "padded_sentences = []\n",
    "for sentence in embedded_sentences:\n",
    "  padding_length = max_len - sentence.shape[0]\n",
    "  if padding_length == 0:\n",
    "    padded_sentences.append(sentence)\n",
    "  else:\n",
    "    padding = torch.zeros(padding_length, sentence.shape[1])\n",
    "    padded_sentence = torch.cat((sentence, padding), dim=0)\n",
    "    padded_sentences.append(padded_sentence)\n",
    "\n",
    "# Stack the padded tensors\n",
    "stacked_tensors_x = torch.stack(padded_sentences)\n",
    "stacked_tensors_x.shape"
   ]
  },
  {
   "cell_type": "code",
   "execution_count": 24,
   "metadata": {},
   "outputs": [],
   "source": [
    "import torch\n",
    "import torch.nn as nn\n",
    "import torch.optim as optim\n",
    "import torch.nn.functional as F\n",
    "from sklearn.model_selection import train_test_split\n",
    "\n",
    "# Example: Suppose labels are stored in `labels`\n",
    "labels_tensor = torch.tensor([label_to_index[cat] for _, cat in text_cat_pairs])\n",
    "\n",
    "# Split data into train, validation, and test sets\n",
    "X_train, X_temp, y_train, y_temp = train_test_split(stacked_tensors_x, labels_tensor, test_size=0.3, random_state=42)\n",
    "X_val, X_test, y_val, y_test = train_test_split(X_temp, y_temp, test_size=0.5, random_state=42)\n",
    "\n",
    "# Prepare DataLoaders\n",
    "train_data = [(X_train[i], y_train[i]) for i in range(len(X_train))]\n",
    "val_data = [(X_val[i], y_val[i]) for i in range(len(X_val))]\n",
    "test_data = [(X_test[i], y_test[i]) for i in range(len(X_test))]\n",
    "\n",
    "train_loader = torch.utils.data.DataLoader(train_data, batch_size=32, shuffle=True)\n",
    "val_loader = torch.utils.data.DataLoader(val_data, batch_size=32, shuffle=False)\n",
    "test_loader = torch.utils.data.DataLoader(test_data, batch_size=32, shuffle=False)\n"
   ]
  },
  {
   "cell_type": "code",
   "execution_count": null,
   "metadata": {},
   "outputs": [
    {
     "name": "stderr",
     "output_type": "stream",
     "text": [
      "C:\\Users\\Lenovo\\AppData\\Roaming\\Python\\Python310\\site-packages\\torch\\nn\\modules\\transformer.py:282: UserWarning: enable_nested_tensor is True, but self.use_nested_tensor is False because encoder_layer.self_attn.batch_first was not True(use batch_first for better inference performance)\n",
      "  warnings.warn(f\"enable_nested_tensor is True, but self.use_nested_tensor is False because {why_not_sparsity_fast_path}\")\n"
     ]
    },
    {
     "name": "stdout",
     "output_type": "stream",
     "text": [
      "Epoch [1/8], Loss: 1.4267, Accuracy: 56.33%\n",
      "Validation Loss: 1.1646, Validation Accuracy: 66.12%\n",
      "Epoch [2/8], Loss: 0.9939, Accuracy: 69.19%\n",
      "Validation Loss: 1.0785, Validation Accuracy: 68.33%\n",
      "Epoch [3/8], Loss: 0.8656, Accuracy: 72.81%\n",
      "Validation Loss: 1.1029, Validation Accuracy: 68.88%\n"
     ]
    }
   ],
   "source": [
    "device = torch.device(\"cuda\" if torch.cuda.is_available() else \"cpu\")\n",
    "\n",
    "import torch\n",
    "import torch.nn as nn\n",
    "import torch.optim as optim\n",
    "from sklearn.metrics import precision_score, recall_score, f1_score, classification_report\n",
    "import matplotlib.pyplot as plt\n",
    "\n",
    "class TransformerClassifier(nn.Module):\n",
    "    def __init__(self, input_dim, num_classes=22, num_heads=6, hidden_dim=256, num_layers=6, dropout=0.5):\n",
    "        super(TransformerClassifier, self).__init__()\n",
    "        self.transformer = nn.TransformerEncoder(\n",
    "            nn.TransformerEncoderLayer(d_model=input_dim, nhead=num_heads, dim_feedforward=hidden_dim, dropout=dropout),\n",
    "            num_layers=num_layers\n",
    "        )\n",
    "        self.fc = nn.Linear(input_dim, 22)\n",
    "        self.dropout = nn.Dropout(dropout)\n",
    "\n",
    "    def forward(self, x):\n",
    "        x = x.permute(1, 0, 2)  # Transformer expects (seq_len, batch_size, input_dim)\n",
    "        x = self.transformer(x)  # (seq_len, batch_size, input_dim)\n",
    "        x = x.mean(dim=0)  # Global average pooling across seq_len\n",
    "        x = self.dropout(x)\n",
    "        x = self.fc(x)  # (batch_size, num_classes)\n",
    "        return x\n",
    "\n",
    "# Initialize Model, Loss, Optimizer\n",
    "input_dim = stacked_tensors_x.shape[2]  # 768 (embedding size)\n",
    "num_classes = len(label_to_index)  # Number of categories\n",
    "model = TransformerClassifier(input_dim=input_dim, num_classes=num_classes)\n",
    "\n",
    "criterion = nn.CrossEntropyLoss()\n",
    "optimizer = optim.Adam(model.parameters(), lr=1e-4)\n",
    "\n",
    "# Track metrics for plotting\n",
    "train_losses = []\n",
    "train_accuracies = []\n",
    "val_losses = []\n",
    "val_accuracies = []\n",
    "\n",
    "# Training Loop\n",
    "num_epochs = 8\n",
    "for epoch in range(num_epochs):\n",
    "    model.train()\n",
    "    train_loss = 0.0\n",
    "    correct_preds = 0\n",
    "    total_preds = 0\n",
    "    all_preds = []\n",
    "    all_labels = []\n",
    "\n",
    "    for embeddings, labels in train_loader:\n",
    "        embeddings, labels = embeddings.to(device), labels.to(device)\n",
    "        optimizer.zero_grad()\n",
    "        outputs = model(embeddings)\n",
    "        loss = criterion(outputs, labels)\n",
    "        loss.backward()\n",
    "        optimizer.step()\n",
    "\n",
    "        train_loss += loss.item() * embeddings.size(0)\n",
    "        _, predicted = torch.max(outputs, dim=1)\n",
    "        correct_preds += (predicted == labels).sum().item()\n",
    "        total_preds += labels.size(0)\n",
    "\n",
    "        all_preds.extend(predicted.cpu().numpy())\n",
    "        all_labels.extend(labels.cpu().numpy())\n",
    "\n",
    "    train_loss /= total_preds\n",
    "    train_accuracy = 100 * correct_preds / total_preds\n",
    "    train_losses.append(train_loss)\n",
    "    train_accuracies.append(train_accuracy)\n",
    "\n",
    "    print(f\"Epoch [{epoch+1}/{num_epochs}], Loss: {train_loss:.4f}, Accuracy: {train_accuracy:.2f}%\")\n",
    "\n",
    "    # Validation\n",
    "    model.eval()\n",
    "    val_loss = 0.0\n",
    "    correct_preds = 0\n",
    "    total_preds = 0\n",
    "    val_preds = []\n",
    "    val_labels = []\n",
    "\n",
    "    with torch.no_grad():\n",
    "        for embeddings, labels in val_loader:\n",
    "            embeddings, labels = embeddings.to(device), labels.to(device)\n",
    "            outputs = model(embeddings)\n",
    "            loss = criterion(outputs, labels)\n",
    "            val_loss += loss.item() * embeddings.size(0)\n",
    "            _, predicted = torch.max(outputs, dim=1)\n",
    "            correct_preds += (predicted == labels).sum().item()\n",
    "            total_preds += labels.size(0)\n",
    "\n",
    "            val_preds.extend(predicted.cpu().numpy())\n",
    "            val_labels.extend(labels.cpu().numpy())\n",
    "\n",
    "    val_loss /= total_preds\n",
    "    val_accuracy = 100 * correct_preds / total_preds\n",
    "    val_losses.append(val_loss)\n",
    "    val_accuracies.append(val_accuracy)\n",
    "\n",
    "    print(f\"Validation Loss: {val_loss:.4f}, Validation Accuracy: {val_accuracy:.2f}%\")\n"
   ]
  },
  {
   "cell_type": "code",
   "execution_count": null,
   "metadata": {},
   "outputs": [
    {
     "name": "stdout",
     "output_type": "stream",
     "text": [
      "The history saving thread hit an unexpected error (OperationalError('database or disk is full')).History will not be written to the database.\n"
     ]
    },
    {
     "data": {
      "image/png": "[encoded data removed]",
      "text/plain": [
       "<Figure size 1200x500 with 2 Axes>"
      ]
     },
     "metadata": {},
     "output_type": "display_data"
    },
    {
     "name": "stdout",
     "output_type": "stream",
     "text": [
      "Test Loss: 1.4382, Test Accuracy: 68.64%\n"
     ]
    }
   ],
   "source": [
    "# Ensure `target_names` aligns with unique labels in the validation set\n",
    "unique_val_labels = sorted(set(val_labels))  # Get unique labels in validation set\n",
    "filtered_label_to_index_val = {k: v for k, v in label_to_index.items() if label_to_index[k] in unique_val_labels}\n",
    "target_names_val = [k for k, v in filtered_label_to_index_val.items()]\n",
    "\n",
    "# # Print classification report for validation\n",
    "# print(\"\\nValidation Classification Report:\")\n",
    "# print(classification_report(val_labels, val_preds, labels=unique_val_labels, target_names=target_names_val))\n",
    "\n",
    "# Plotting Loss and Accuracy\n",
    "plt.figure(figsize=(12, 5))\n",
    "\n",
    "# Loss Plot\n",
    "plt.subplot(1, 2, 1)\n",
    "plt.plot(range(1, num_epochs + 1), train_losses, label='Train Loss')\n",
    "plt.plot(range(1, num_epochs + 1), val_losses, label='Validation Loss')\n",
    "plt.xlabel('Epochs')\n",
    "plt.ylabel('Loss')\n",
    "plt.title('Loss Curve')\n",
    "plt.legend()\n",
    "\n",
    "# Accuracy Plot\n",
    "plt.subplot(1, 2, 2)\n",
    "plt.plot(range(1, num_epochs + 1), train_accuracies, label='Train Accuracy')\n",
    "plt.plot(range(1, num_epochs + 1), val_accuracies, label='Validation Accuracy')\n",
    "plt.xlabel('Epochs')\n",
    "plt.ylabel('Accuracy (%)')\n",
    "plt.title('Accuracy Curve')\n",
    "plt.legend()\n",
    "\n",
    "plt.tight_layout()\n",
    "plt.show()\n",
    "\n",
    "# Test Evaluation\n",
    "model.eval()\n",
    "test_loss = 0.0\n",
    "correct_preds = 0\n",
    "total_preds = 0\n",
    "test_preds = []\n",
    "test_labels = []\n",
    "\n",
    "with torch.no_grad():\n",
    "    for embeddings, labels in test_loader:\n",
    "        embeddings, labels = embeddings.to(device), labels.to(device)\n",
    "        outputs = model(embeddings)\n",
    "        loss = criterion(outputs, labels)\n",
    "        test_loss += loss.item() * embeddings.size(0)\n",
    "        _, predicted = torch.max(outputs, dim=1)\n",
    "        correct_preds += (predicted == labels).sum().item()\n",
    "        total_preds += labels.size(0)\n",
    "\n",
    "        test_preds.extend(predicted.cpu().numpy())\n",
    "        test_labels.extend(labels.cpu().numpy())\n",
    "\n",
    "test_loss /= total_preds\n",
    "test_accuracy = 100 * correct_preds / total_preds\n",
    "\n",
    "print(f\"Test Loss: {test_loss:.4f}, Test Accuracy: {test_accuracy:.2f}%\")\n",
    "\n",
    "# Ensure `target_names` aligns with unique labels in the test set\n",
    "unique_test_labels = sorted(set(test_labels))  # Get unique labels in the test set\n",
    "filtered_label_to_index_test = {k: v for k, v in label_to_index.items() if label_to_index[k] in unique_test_labels}\n",
    "target_names_test = [k for k, v in filtered_label_to_index_test.items()]\n",
    "\n",
    "# # Print classification report for test set\n",
    "# print(\"\\nTest Classification Report:\")\n",
    "# print(classification_report(test_labels, test_preds, labels=unique_test_labels, target_names=target_names_test))\n"
   ]
  },
  {
   "cell_type": "code",
   "execution_count": null,
   "metadata": {},
   "outputs": [],
   "source": []
  },
  {
   "cell_type": "code",
   "execution_count": null,
   "metadata": {},
   "outputs": [
    {
     "name": "stdout",
     "output_type": "stream",
     "text": [
      "Epoch [1/10], Loss: 3.09, Accuracy: 4.44%\n",
      "Validation Loss: 3.09, Validation Accuracy: 4.73%\n",
      "F1 Score: 0.00, Precision: 0.00, Recall: 0.05\n"
     ]
    },
    {
     "name": "stderr",
     "output_type": "stream",
     "text": [
      "e:\\MY projects\\LangSHain\\venv\\lib\\site-packages\\sklearn\\metrics\\_classification.py:1531: UndefinedMetricWarning: Precision is ill-defined and being set to 0.0 in labels with no predicted samples. Use `zero_division` parameter to control this behavior.\n",
      "  _warn_prf(average, modifier, f\"{metric.capitalize()} is\", len(result))\n"
     ]
    },
    {
     "name": "stdout",
     "output_type": "stream",
     "text": [
      "Epoch [2/10], Loss: 3.09, Accuracy: 4.45%\n",
      "Validation Loss: 3.09, Validation Accuracy: 4.33%\n",
      "F1 Score: 0.00, Precision: 0.00, Recall: 0.04\n"
     ]
    },
    {
     "name": "stderr",
     "output_type": "stream",
     "text": [
      "e:\\MY projects\\LangSHain\\venv\\lib\\site-packages\\sklearn\\metrics\\_classification.py:1531: UndefinedMetricWarning: Precision is ill-defined and being set to 0.0 in labels with no predicted samples. Use `zero_division` parameter to control this behavior.\n",
      "  _warn_prf(average, modifier, f\"{metric.capitalize()} is\", len(result))\n"
     ]
    },
    {
     "ename": "KeyboardInterrupt",
     "evalue": "",
     "output_type": "error",
     "traceback": [
      "\u001b[1;31m---------------------------------------------------------------------------\u001b[0m",
      "\u001b[1;31mKeyboardInterrupt\u001b[0m                         Traceback (most recent call last)",
      "Cell \u001b[1;32mIn[52], line 95\u001b[0m\n\u001b[0;32m     93\u001b[0m embeddings, labels \u001b[38;5;241m=\u001b[39m embeddings\u001b[38;5;241m.\u001b[39mto(device), labels\u001b[38;5;241m.\u001b[39mto(device)\n\u001b[0;32m     94\u001b[0m optimizer\u001b[38;5;241m.\u001b[39mzero_grad()\n\u001b[1;32m---> 95\u001b[0m outputs \u001b[38;5;241m=\u001b[39m \u001b[43mmodelGRU\u001b[49m\u001b[43m(\u001b[49m\u001b[43membeddings\u001b[49m\u001b[43m)\u001b[49m  \u001b[38;5;66;03m# Example with GRU\u001b[39;00m\n\u001b[0;32m     96\u001b[0m loss \u001b[38;5;241m=\u001b[39m criterion(outputs, labels)\n\u001b[0;32m     97\u001b[0m loss\u001b[38;5;241m.\u001b[39mbackward()\n",
      "File \u001b[1;32m~\\AppData\\Roaming\\Python\\Python310\\site-packages\\torch\\nn\\modules\\module.py:1518\u001b[0m, in \u001b[0;36mModule._wrapped_call_impl\u001b[1;34m(self, *args, **kwargs)\u001b[0m\n\u001b[0;32m   1516\u001b[0m     \u001b[38;5;28;01mreturn\u001b[39;00m \u001b[38;5;28mself\u001b[39m\u001b[38;5;241m.\u001b[39m_compiled_call_impl(\u001b[38;5;241m*\u001b[39margs, \u001b[38;5;241m*\u001b[39m\u001b[38;5;241m*\u001b[39mkwargs)  \u001b[38;5;66;03m# type: ignore[misc]\u001b[39;00m\n\u001b[0;32m   1517\u001b[0m \u001b[38;5;28;01melse\u001b[39;00m:\n\u001b[1;32m-> 1518\u001b[0m     \u001b[38;5;28;01mreturn\u001b[39;00m \u001b[38;5;28mself\u001b[39m\u001b[38;5;241m.\u001b[39m_call_impl(\u001b[38;5;241m*\u001b[39margs, \u001b[38;5;241m*\u001b[39m\u001b[38;5;241m*\u001b[39mkwargs)\n",
      "File \u001b[1;32m~\\AppData\\Roaming\\Python\\Python310\\site-packages\\torch\\nn\\modules\\module.py:1527\u001b[0m, in \u001b[0;36mModule._call_impl\u001b[1;34m(self, *args, **kwargs)\u001b[0m\n\u001b[0;32m   1522\u001b[0m \u001b[38;5;66;03m# If we don't have any hooks, we want to skip the rest of the logic in\u001b[39;00m\n\u001b[0;32m   1523\u001b[0m \u001b[38;5;66;03m# this function, and just call forward.\u001b[39;00m\n\u001b[0;32m   1524\u001b[0m \u001b[38;5;28;01mif\u001b[39;00m \u001b[38;5;129;01mnot\u001b[39;00m (\u001b[38;5;28mself\u001b[39m\u001b[38;5;241m.\u001b[39m_backward_hooks \u001b[38;5;129;01mor\u001b[39;00m \u001b[38;5;28mself\u001b[39m\u001b[38;5;241m.\u001b[39m_backward_pre_hooks \u001b[38;5;129;01mor\u001b[39;00m \u001b[38;5;28mself\u001b[39m\u001b[38;5;241m.\u001b[39m_forward_hooks \u001b[38;5;129;01mor\u001b[39;00m \u001b[38;5;28mself\u001b[39m\u001b[38;5;241m.\u001b[39m_forward_pre_hooks\n\u001b[0;32m   1525\u001b[0m         \u001b[38;5;129;01mor\u001b[39;00m _global_backward_pre_hooks \u001b[38;5;129;01mor\u001b[39;00m _global_backward_hooks\n\u001b[0;32m   1526\u001b[0m         \u001b[38;5;129;01mor\u001b[39;00m _global_forward_hooks \u001b[38;5;129;01mor\u001b[39;00m _global_forward_pre_hooks):\n\u001b[1;32m-> 1527\u001b[0m     \u001b[38;5;28;01mreturn\u001b[39;00m forward_call(\u001b[38;5;241m*\u001b[39margs, \u001b[38;5;241m*\u001b[39m\u001b[38;5;241m*\u001b[39mkwargs)\n\u001b[0;32m   1529\u001b[0m \u001b[38;5;28;01mtry\u001b[39;00m:\n\u001b[0;32m   1530\u001b[0m     result \u001b[38;5;241m=\u001b[39m \u001b[38;5;28;01mNone\u001b[39;00m\n",
      "Cell \u001b[1;32mIn[52], line 29\u001b[0m, in \u001b[0;36mBiDirectionalGRU.forward\u001b[1;34m(self, x)\u001b[0m\n\u001b[0;32m     26\u001b[0m h0 \u001b[38;5;241m=\u001b[39m torch\u001b[38;5;241m.\u001b[39mzeros(\u001b[38;5;28mself\u001b[39m\u001b[38;5;241m.\u001b[39mnum_layers \u001b[38;5;241m*\u001b[39m \u001b[38;5;241m2\u001b[39m, batch_size, \u001b[38;5;28mself\u001b[39m\u001b[38;5;241m.\u001b[39mhidden_size)\u001b[38;5;241m.\u001b[39mto(x\u001b[38;5;241m.\u001b[39mdevice)  \u001b[38;5;66;03m# 2 for bidirectional\u001b[39;00m\n\u001b[0;32m     28\u001b[0m \u001b[38;5;66;03m# Forward propagate GRU\u001b[39;00m\n\u001b[1;32m---> 29\u001b[0m out, _ \u001b[38;5;241m=\u001b[39m \u001b[38;5;28;43mself\u001b[39;49m\u001b[38;5;241;43m.\u001b[39;49m\u001b[43mgru\u001b[49m\u001b[43m(\u001b[49m\u001b[43mx\u001b[49m\u001b[43m,\u001b[49m\u001b[43m \u001b[49m\u001b[43mh0\u001b[49m\u001b[43m)\u001b[49m\n\u001b[0;32m     31\u001b[0m \u001b[38;5;66;03m# Decode the hidden state of the last time step\u001b[39;00m\n\u001b[0;32m     32\u001b[0m out \u001b[38;5;241m=\u001b[39m \u001b[38;5;28mself\u001b[39m\u001b[38;5;241m.\u001b[39mfc(out[:, \u001b[38;5;241m-\u001b[39m\u001b[38;5;241m1\u001b[39m, :])  \u001b[38;5;66;03m# Use the last time step's output (for classification)\u001b[39;00m\n",
      "File \u001b[1;32m~\\AppData\\Roaming\\Python\\Python310\\site-packages\\torch\\nn\\modules\\module.py:1518\u001b[0m, in \u001b[0;36mModule._wrapped_call_impl\u001b[1;34m(self, *args, **kwargs)\u001b[0m\n\u001b[0;32m   1516\u001b[0m     \u001b[38;5;28;01mreturn\u001b[39;00m \u001b[38;5;28mself\u001b[39m\u001b[38;5;241m.\u001b[39m_compiled_call_impl(\u001b[38;5;241m*\u001b[39margs, \u001b[38;5;241m*\u001b[39m\u001b[38;5;241m*\u001b[39mkwargs)  \u001b[38;5;66;03m# type: ignore[misc]\u001b[39;00m\n\u001b[0;32m   1517\u001b[0m \u001b[38;5;28;01melse\u001b[39;00m:\n\u001b[1;32m-> 1518\u001b[0m     \u001b[38;5;28;01mreturn\u001b[39;00m \u001b[38;5;28mself\u001b[39m\u001b[38;5;241m.\u001b[39m_call_impl(\u001b[38;5;241m*\u001b[39margs, \u001b[38;5;241m*\u001b[39m\u001b[38;5;241m*\u001b[39mkwargs)\n",
      "File \u001b[1;32m~\\AppData\\Roaming\\Python\\Python310\\site-packages\\torch\\nn\\modules\\module.py:1527\u001b[0m, in \u001b[0;36mModule._call_impl\u001b[1;34m(self, *args, **kwargs)\u001b[0m\n\u001b[0;32m   1522\u001b[0m \u001b[38;5;66;03m# If we don't have any hooks, we want to skip the rest of the logic in\u001b[39;00m\n\u001b[0;32m   1523\u001b[0m \u001b[38;5;66;03m# this function, and just call forward.\u001b[39;00m\n\u001b[0;32m   1524\u001b[0m \u001b[38;5;28;01mif\u001b[39;00m \u001b[38;5;129;01mnot\u001b[39;00m (\u001b[38;5;28mself\u001b[39m\u001b[38;5;241m.\u001b[39m_backward_hooks \u001b[38;5;129;01mor\u001b[39;00m \u001b[38;5;28mself\u001b[39m\u001b[38;5;241m.\u001b[39m_backward_pre_hooks \u001b[38;5;129;01mor\u001b[39;00m \u001b[38;5;28mself\u001b[39m\u001b[38;5;241m.\u001b[39m_forward_hooks \u001b[38;5;129;01mor\u001b[39;00m \u001b[38;5;28mself\u001b[39m\u001b[38;5;241m.\u001b[39m_forward_pre_hooks\n\u001b[0;32m   1525\u001b[0m         \u001b[38;5;129;01mor\u001b[39;00m _global_backward_pre_hooks \u001b[38;5;129;01mor\u001b[39;00m _global_backward_hooks\n\u001b[0;32m   1526\u001b[0m         \u001b[38;5;129;01mor\u001b[39;00m _global_forward_hooks \u001b[38;5;129;01mor\u001b[39;00m _global_forward_pre_hooks):\n\u001b[1;32m-> 1527\u001b[0m     \u001b[38;5;28;01mreturn\u001b[39;00m forward_call(\u001b[38;5;241m*\u001b[39margs, \u001b[38;5;241m*\u001b[39m\u001b[38;5;241m*\u001b[39mkwargs)\n\u001b[0;32m   1529\u001b[0m \u001b[38;5;28;01mtry\u001b[39;00m:\n\u001b[0;32m   1530\u001b[0m     result \u001b[38;5;241m=\u001b[39m \u001b[38;5;28;01mNone\u001b[39;00m\n",
      "File \u001b[1;32m~\\AppData\\Roaming\\Python\\Python310\\site-packages\\torch\\nn\\modules\\rnn.py:1102\u001b[0m, in \u001b[0;36mGRU.forward\u001b[1;34m(self, input, hx)\u001b[0m\n\u001b[0;32m   1100\u001b[0m \u001b[38;5;28mself\u001b[39m\u001b[38;5;241m.\u001b[39mcheck_forward_args(\u001b[38;5;28minput\u001b[39m, hx, batch_sizes)\n\u001b[0;32m   1101\u001b[0m \u001b[38;5;28;01mif\u001b[39;00m batch_sizes \u001b[38;5;129;01mis\u001b[39;00m \u001b[38;5;28;01mNone\u001b[39;00m:\n\u001b[1;32m-> 1102\u001b[0m     result \u001b[38;5;241m=\u001b[39m \u001b[43m_VF\u001b[49m\u001b[38;5;241;43m.\u001b[39;49m\u001b[43mgru\u001b[49m\u001b[43m(\u001b[49m\u001b[38;5;28;43minput\u001b[39;49m\u001b[43m,\u001b[49m\u001b[43m \u001b[49m\u001b[43mhx\u001b[49m\u001b[43m,\u001b[49m\u001b[43m \u001b[49m\u001b[38;5;28;43mself\u001b[39;49m\u001b[38;5;241;43m.\u001b[39;49m\u001b[43m_flat_weights\u001b[49m\u001b[43m,\u001b[49m\u001b[43m \u001b[49m\u001b[38;5;28;43mself\u001b[39;49m\u001b[38;5;241;43m.\u001b[39;49m\u001b[43mbias\u001b[49m\u001b[43m,\u001b[49m\u001b[43m \u001b[49m\u001b[38;5;28;43mself\u001b[39;49m\u001b[38;5;241;43m.\u001b[39;49m\u001b[43mnum_layers\u001b[49m\u001b[43m,\u001b[49m\n\u001b[0;32m   1103\u001b[0m \u001b[43m                     \u001b[49m\u001b[38;5;28;43mself\u001b[39;49m\u001b[38;5;241;43m.\u001b[39;49m\u001b[43mdropout\u001b[49m\u001b[43m,\u001b[49m\u001b[43m \u001b[49m\u001b[38;5;28;43mself\u001b[39;49m\u001b[38;5;241;43m.\u001b[39;49m\u001b[43mtraining\u001b[49m\u001b[43m,\u001b[49m\u001b[43m \u001b[49m\u001b[38;5;28;43mself\u001b[39;49m\u001b[38;5;241;43m.\u001b[39;49m\u001b[43mbidirectional\u001b[49m\u001b[43m,\u001b[49m\u001b[43m \u001b[49m\u001b[38;5;28;43mself\u001b[39;49m\u001b[38;5;241;43m.\u001b[39;49m\u001b[43mbatch_first\u001b[49m\u001b[43m)\u001b[49m\n\u001b[0;32m   1104\u001b[0m \u001b[38;5;28;01melse\u001b[39;00m:\n\u001b[0;32m   1105\u001b[0m     result \u001b[38;5;241m=\u001b[39m _VF\u001b[38;5;241m.\u001b[39mgru(\u001b[38;5;28minput\u001b[39m, batch_sizes, hx, \u001b[38;5;28mself\u001b[39m\u001b[38;5;241m.\u001b[39m_flat_weights, \u001b[38;5;28mself\u001b[39m\u001b[38;5;241m.\u001b[39mbias,\n\u001b[0;32m   1106\u001b[0m                      \u001b[38;5;28mself\u001b[39m\u001b[38;5;241m.\u001b[39mnum_layers, \u001b[38;5;28mself\u001b[39m\u001b[38;5;241m.\u001b[39mdropout, \u001b[38;5;28mself\u001b[39m\u001b[38;5;241m.\u001b[39mtraining, \u001b[38;5;28mself\u001b[39m\u001b[38;5;241m.\u001b[39mbidirectional)\n",
      "\u001b[1;31mKeyboardInterrupt\u001b[0m: "
     ]
    }
   ],
   "source": [
    "import torch\n",
    "import torch.nn as nn\n",
    "import torch.optim as optim\n",
    "import torch.nn.functional as F\n",
    "from sklearn.metrics import confusion_matrix, classification_report, f1_score, precision_score, recall_score\n",
    "import matplotlib.pyplot as plt\n",
    "import seaborn as sns\n",
    "\n",
    "# Define BiDirectionalGRU Model\n",
    "class BiDirectionalGRU(nn.Module):\n",
    "    def __init__(self, input_size, hidden_size, num_layers, output_size):\n",
    "        super(BiDirectionalGRU, self).__init__()\n",
    "        self.hidden_size = hidden_size\n",
    "        self.num_layers = num_layers\n",
    "\n",
    "        # Bi-directional GRU layer\n",
    "        self.gru = nn.GRU(input_size, hidden_size, num_layers,\n",
    "                          batch_first=True, bidirectional=True)\n",
    "\n",
    "        # Fully connected layer\n",
    "        self.fc = nn.Linear(hidden_size * 2, output_size)  # *2 for bidirectional output\n",
    "\n",
    "    def forward(self, x):\n",
    "        # Initialize hidden state\n",
    "        batch_size = x.size(0)\n",
    "        h0 = torch.zeros(self.num_layers * 2, batch_size, self.hidden_size).to(x.device)  # 2 for bidirectional\n",
    "\n",
    "        # Forward propagate GRU\n",
    "        out, _ = self.gru(x, h0)\n",
    "\n",
    "        # Decode the hidden state of the last time step\n",
    "        out = self.fc(out[:, -1, :])  # Use the last time step's output (for classification)\n",
    "\n",
    "        # Apply softmax to get probabilities for each class\n",
    "        out = F.softmax(out, dim=1)  # Normalize output to be a probability distribution\n",
    "\n",
    "        return out\n",
    "\n",
    "\n",
    "\n",
    "# Initialize Model, Loss, Optimizer\n",
    "input_dim = stacked_tensors_x.shape[2]  # Example: 768 (embedding size)\n",
    "hidden_dim = 256\n",
    "num_layers = 1\n",
    "num_classes = 22  # Number of categories\n",
    "modelGRU = BiDirectionalGRU(input_size=input_dim, hidden_size=hidden_dim, num_layers=num_layers, output_size=num_classes)\n",
    "\n",
    "\n",
    "criterion = nn.CrossEntropyLoss()\n",
    "optimizer = optim.Adam(modelGRU.parameters(), lr=1e-4)  # Example with GRU\n",
    "\n",
    "# Training Loop\n",
    "num_epochs = 10\n",
    "device = torch.device(\"cuda\" if torch.cuda.is_available() else \"cpu\")\n",
    "modelGRU = modelGRU.to(device)  # Example with GRU\n",
    "\n",
    "train_losses, val_losses = [], []\n",
    "train_accuracies, val_accuracies = [], []\n",
    "\n",
    "def plot_metrics(train_losses, val_losses, train_accuracies, val_accuracies):\n",
    "    epochs = range(1, len(train_losses) + 1)\n",
    "\n",
    "    plt.figure(figsize=(12, 5))\n",
    "\n",
    "    # Plot Loss\n",
    "    plt.subplot(1, 2, 1)\n",
    "    plt.plot(epochs, train_losses, 'bo-', label='Training Loss')\n",
    "    plt.plot(epochs, val_losses, 'ro-', label='Validation Loss')\n",
    "    plt.title('Training and Validation Loss')\n",
    "    plt.xlabel('Epochs')\n",
    "    plt.ylabel('Loss')\n",
    "    plt.legend()\n",
    "\n",
    "    # Plot Accuracy\n",
    "    plt.subplot(1, 2, 2)\n",
    "    plt.plot(epochs, train_accuracies, 'bo-', label='Training Accuracy')\n",
    "    plt.plot(epochs, val_accuracies, 'ro-', label='Validation Accuracy')\n",
    "    plt.title('Training and Validation Accuracy')\n",
    "    plt.xlabel('Epochs')\n",
    "    plt.ylabel('Accuracy (%)')\n",
    "    plt.legend()\n",
    "\n",
    "    plt.tight_layout()\n",
    "    plt.show()\n",
    "\n",
    "for epoch in range(num_epochs):\n",
    "    modelGRU.train()  # Example with GRU\n",
    "    train_loss = 0.0\n",
    "    correct_preds = 0\n",
    "    total_preds = 0\n",
    "\n",
    "    for embeddings, labels in train_loader:\n",
    "        embeddings, labels = embeddings.to(device), labels.to(device)\n",
    "        optimizer.zero_grad()\n",
    "        outputs = modelGRU(embeddings)  # Example with GRU\n",
    "        loss = criterion(outputs, labels)\n",
    "        loss.backward()\n",
    "        optimizer.step()\n",
    "\n",
    "        train_loss += loss.item() * embeddings.size(0)  # Sum the loss across all samples\n",
    "        _, predicted = torch.max(outputs, dim=1)\n",
    "        correct_preds += (predicted == labels).sum().item()\n",
    "        total_preds += labels.size(0)\n",
    "\n",
    "    train_loss_percentage = (train_loss / total_preds) \n",
    "    train_accuracy = 100 * correct_preds / total_preds\n",
    "    train_losses.append(train_loss_percentage)\n",
    "    train_accuracies.append(train_accuracy)\n",
    "    print(f\"Epoch [{epoch+1}/{num_epochs}], Loss: {train_loss_percentage:.2f}, Accuracy: {train_accuracy:.2f}%\")\n",
    "\n",
    "    # Validation\n",
    "    modelGRU.eval()  # Example with GRU\n",
    "    val_loss = 0.0\n",
    "    correct_preds = 0\n",
    "    total_preds = 0\n",
    "\n",
    "    all_labels = []\n",
    "    all_preds = []\n",
    "\n",
    "    with torch.no_grad():\n",
    "        for embeddings, labels in val_loader:\n",
    "            embeddings, labels = embeddings.to(device), labels.to(device)\n",
    "            outputs = modelGRU(embeddings)  # Example with GRU\n",
    "            loss = criterion(outputs, labels)\n",
    "            val_loss += loss.item() * embeddings.size(0)  # Sum the loss across all samples\n",
    "            _, predicted = torch.max(outputs, dim=1)\n",
    "            correct_preds += (predicted == labels).sum().item()\n",
    "            total_preds += labels.size(0)\n",
    "\n",
    "            all_labels.extend(labels.cpu().numpy())\n",
    "            all_preds.extend(predicted.cpu().numpy())\n",
    "\n",
    "    val_loss_percentage = (val_loss / total_preds) \n",
    "    val_accuracy = 100 * correct_preds / total_preds\n",
    "    val_losses.append(val_loss_percentage)\n",
    "    val_accuracies.append(val_accuracy)\n",
    "    print(f\"Validation Loss: {val_loss_percentage:.2f}, Validation Accuracy: {val_accuracy:.2f}%\")\n",
    "\n",
    "    # Metrics\n",
    "    f1 = f1_score(all_labels, all_preds, average='weighted')\n",
    "    precision = precision_score(all_labels, all_preds, average='weighted')\n",
    "    recall = recall_score(all_labels, all_preds, average='weighted')\n",
    "    print(f\"F1 Score: {f1:.2f}, Precision: {precision:.2f}, Recall: {recall:.2f}\")\n",
    "\n",
    "    # # Confusion Matrix\n",
    "    # cm = confusion_matrix(all_labels, all_preds)\n",
    "    # plt.figure(figsize=(10, 8))\n",
    "    # sns.heatmap(cm, annot=True, fmt='d', cmap='Blues', xticklabels=label_to_index.keys(), yticklabels=label_to_index.keys())\n",
    "    # plt.title('Confusion Matrix')\n",
    "    # plt.xlabel('Predicted Labels')\n",
    "    # plt.ylabel('True Labels')\n",
    "    # plt.show()\n",
    "\n",
    "plot_metrics(train_losses, val_losses, train_accuracies, val_accuracies)\n"
   ]
  },
  {
   "cell_type": "code",
   "execution_count": null,
   "metadata": {},
   "outputs": [
    {
     "name": "stdout",
     "output_type": "stream",
     "text": [
      "Epoch [1/30], Loss: 3.35, Accuracy: 37.81%\n",
      "Validation Loss: 3.30, Validation Accuracy: 38.24%\n",
      "F1 Score: 0.21, Precision: 0.15, Recall: 0.38\n"
     ]
    },
    {
     "name": "stderr",
     "output_type": "stream",
     "text": [
      "e:\\MY projects\\LangSHain\\venv\\lib\\site-packages\\sklearn\\metrics\\_classification.py:1531: UndefinedMetricWarning: Precision is ill-defined and being set to 0.0 in labels with no predicted samples. Use `zero_division` parameter to control this behavior.\n",
      "  _warn_prf(average, modifier, f\"{metric.capitalize()} is\", len(result))\n"
     ]
    },
    {
     "name": "stdout",
     "output_type": "stream",
     "text": [
      "Epoch [2/30], Loss: 3.30, Accuracy: 38.58%\n",
      "Validation Loss: 3.30, Validation Accuracy: 38.24%\n",
      "F1 Score: 0.21, Precision: 0.15, Recall: 0.38\n"
     ]
    },
    {
     "name": "stderr",
     "output_type": "stream",
     "text": [
      "e:\\MY projects\\LangSHain\\venv\\lib\\site-packages\\sklearn\\metrics\\_classification.py:1531: UndefinedMetricWarning: Precision is ill-defined and being set to 0.0 in labels with no predicted samples. Use `zero_division` parameter to control this behavior.\n",
      "  _warn_prf(average, modifier, f\"{metric.capitalize()} is\", len(result))\n"
     ]
    },
    {
     "name": "stdout",
     "output_type": "stream",
     "text": [
      "Epoch [3/30], Loss: 3.30, Accuracy: 38.58%\n",
      "Validation Loss: 3.30, Validation Accuracy: 38.24%\n",
      "F1 Score: 0.21, Precision: 0.15, Recall: 0.38\n"
     ]
    },
    {
     "name": "stderr",
     "output_type": "stream",
     "text": [
      "e:\\MY projects\\LangSHain\\venv\\lib\\site-packages\\sklearn\\metrics\\_classification.py:1531: UndefinedMetricWarning: Precision is ill-defined and being set to 0.0 in labels with no predicted samples. Use `zero_division` parameter to control this behavior.\n",
      "  _warn_prf(average, modifier, f\"{metric.capitalize()} is\", len(result))\n"
     ]
    },
    {
     "name": "stdout",
     "output_type": "stream",
     "text": [
      "Epoch [4/30], Loss: 3.30, Accuracy: 38.58%\n",
      "Validation Loss: 3.30, Validation Accuracy: 38.24%\n",
      "F1 Score: 0.21, Precision: 0.15, Recall: 0.38\n"
     ]
    },
    {
     "name": "stderr",
     "output_type": "stream",
     "text": [
      "e:\\MY projects\\LangSHain\\venv\\lib\\site-packages\\sklearn\\metrics\\_classification.py:1531: UndefinedMetricWarning: Precision is ill-defined and being set to 0.0 in labels with no predicted samples. Use `zero_division` parameter to control this behavior.\n",
      "  _warn_prf(average, modifier, f\"{metric.capitalize()} is\", len(result))\n"
     ]
    },
    {
     "name": "stdout",
     "output_type": "stream",
     "text": [
      "Epoch [5/30], Loss: 3.30, Accuracy: 38.58%\n",
      "Validation Loss: 3.30, Validation Accuracy: 38.24%\n",
      "F1 Score: 0.21, Precision: 0.15, Recall: 0.38\n"
     ]
    },
    {
     "name": "stderr",
     "output_type": "stream",
     "text": [
      "e:\\MY projects\\LangSHain\\venv\\lib\\site-packages\\sklearn\\metrics\\_classification.py:1531: UndefinedMetricWarning: Precision is ill-defined and being set to 0.0 in labels with no predicted samples. Use `zero_division` parameter to control this behavior.\n",
      "  _warn_prf(average, modifier, f\"{metric.capitalize()} is\", len(result))\n"
     ]
    },
    {
     "name": "stdout",
     "output_type": "stream",
     "text": [
      "Epoch [6/30], Loss: 3.30, Accuracy: 38.58%\n",
      "Validation Loss: 3.30, Validation Accuracy: 38.24%\n",
      "F1 Score: 0.21, Precision: 0.15, Recall: 0.38\n"
     ]
    },
    {
     "name": "stderr",
     "output_type": "stream",
     "text": [
      "e:\\MY projects\\LangSHain\\venv\\lib\\site-packages\\sklearn\\metrics\\_classification.py:1531: UndefinedMetricWarning: Precision is ill-defined and being set to 0.0 in labels with no predicted samples. Use `zero_division` parameter to control this behavior.\n",
      "  _warn_prf(average, modifier, f\"{metric.capitalize()} is\", len(result))\n"
     ]
    },
    {
     "name": "stdout",
     "output_type": "stream",
     "text": [
      "Epoch [7/30], Loss: 3.30, Accuracy: 38.58%\n",
      "Validation Loss: 3.30, Validation Accuracy: 38.24%\n",
      "F1 Score: 0.21, Precision: 0.15, Recall: 0.38\n"
     ]
    },
    {
     "name": "stderr",
     "output_type": "stream",
     "text": [
      "e:\\MY projects\\LangSHain\\venv\\lib\\site-packages\\sklearn\\metrics\\_classification.py:1531: UndefinedMetricWarning: Precision is ill-defined and being set to 0.0 in labels with no predicted samples. Use `zero_division` parameter to control this behavior.\n",
      "  _warn_prf(average, modifier, f\"{metric.capitalize()} is\", len(result))\n"
     ]
    },
    {
     "name": "stdout",
     "output_type": "stream",
     "text": [
      "Epoch [8/30], Loss: 3.30, Accuracy: 38.58%\n",
      "Validation Loss: 3.30, Validation Accuracy: 38.24%\n",
      "F1 Score: 0.21, Precision: 0.15, Recall: 0.38\n"
     ]
    },
    {
     "name": "stderr",
     "output_type": "stream",
     "text": [
      "e:\\MY projects\\LangSHain\\venv\\lib\\site-packages\\sklearn\\metrics\\_classification.py:1531: UndefinedMetricWarning: Precision is ill-defined and being set to 0.0 in labels with no predicted samples. Use `zero_division` parameter to control this behavior.\n",
      "  _warn_prf(average, modifier, f\"{metric.capitalize()} is\", len(result))\n"
     ]
    },
    {
     "name": "stdout",
     "output_type": "stream",
     "text": [
      "Epoch [9/30], Loss: 3.30, Accuracy: 38.58%\n",
      "Validation Loss: 3.30, Validation Accuracy: 38.24%\n",
      "F1 Score: 0.21, Precision: 0.15, Recall: 0.38\n"
     ]
    },
    {
     "name": "stderr",
     "output_type": "stream",
     "text": [
      "e:\\MY projects\\LangSHain\\venv\\lib\\site-packages\\sklearn\\metrics\\_classification.py:1531: UndefinedMetricWarning: Precision is ill-defined and being set to 0.0 in labels with no predicted samples. Use `zero_division` parameter to control this behavior.\n",
      "  _warn_prf(average, modifier, f\"{metric.capitalize()} is\", len(result))\n"
     ]
    },
    {
     "name": "stdout",
     "output_type": "stream",
     "text": [
      "Epoch [10/30], Loss: 3.30, Accuracy: 38.58%\n",
      "Validation Loss: 3.30, Validation Accuracy: 38.24%\n",
      "F1 Score: 0.21, Precision: 0.15, Recall: 0.38\n"
     ]
    },
    {
     "name": "stderr",
     "output_type": "stream",
     "text": [
      "e:\\MY projects\\LangSHain\\venv\\lib\\site-packages\\sklearn\\metrics\\_classification.py:1531: UndefinedMetricWarning: Precision is ill-defined and being set to 0.0 in labels with no predicted samples. Use `zero_division` parameter to control this behavior.\n",
      "  _warn_prf(average, modifier, f\"{metric.capitalize()} is\", len(result))\n"
     ]
    },
    {
     "name": "stdout",
     "output_type": "stream",
     "text": [
      "Epoch [11/30], Loss: 3.30, Accuracy: 38.58%\n",
      "Validation Loss: 3.30, Validation Accuracy: 38.24%\n",
      "F1 Score: 0.21, Precision: 0.15, Recall: 0.38\n"
     ]
    },
    {
     "name": "stderr",
     "output_type": "stream",
     "text": [
      "e:\\MY projects\\LangSHain\\venv\\lib\\site-packages\\sklearn\\metrics\\_classification.py:1531: UndefinedMetricWarning: Precision is ill-defined and being set to 0.0 in labels with no predicted samples. Use `zero_division` parameter to control this behavior.\n",
      "  _warn_prf(average, modifier, f\"{metric.capitalize()} is\", len(result))\n"
     ]
    },
    {
     "name": "stdout",
     "output_type": "stream",
     "text": [
      "Epoch [12/30], Loss: 3.30, Accuracy: 38.58%\n",
      "Validation Loss: 3.30, Validation Accuracy: 38.24%\n",
      "F1 Score: 0.21, Precision: 0.15, Recall: 0.38\n"
     ]
    },
    {
     "name": "stderr",
     "output_type": "stream",
     "text": [
      "e:\\MY projects\\LangSHain\\venv\\lib\\site-packages\\sklearn\\metrics\\_classification.py:1531: UndefinedMetricWarning: Precision is ill-defined and being set to 0.0 in labels with no predicted samples. Use `zero_division` parameter to control this behavior.\n",
      "  _warn_prf(average, modifier, f\"{metric.capitalize()} is\", len(result))\n"
     ]
    },
    {
     "name": "stdout",
     "output_type": "stream",
     "text": [
      "Epoch [13/30], Loss: 3.30, Accuracy: 38.58%\n",
      "Validation Loss: 3.30, Validation Accuracy: 38.24%\n",
      "F1 Score: 0.21, Precision: 0.15, Recall: 0.38\n"
     ]
    },
    {
     "name": "stderr",
     "output_type": "stream",
     "text": [
      "e:\\MY projects\\LangSHain\\venv\\lib\\site-packages\\sklearn\\metrics\\_classification.py:1531: UndefinedMetricWarning: Precision is ill-defined and being set to 0.0 in labels with no predicted samples. Use `zero_division` parameter to control this behavior.\n",
      "  _warn_prf(average, modifier, f\"{metric.capitalize()} is\", len(result))\n"
     ]
    },
    {
     "name": "stdout",
     "output_type": "stream",
     "text": [
      "Epoch [14/30], Loss: 3.30, Accuracy: 38.58%\n",
      "Validation Loss: 3.30, Validation Accuracy: 38.24%\n",
      "F1 Score: 0.21, Precision: 0.15, Recall: 0.38\n"
     ]
    },
    {
     "name": "stderr",
     "output_type": "stream",
     "text": [
      "e:\\MY projects\\LangSHain\\venv\\lib\\site-packages\\sklearn\\metrics\\_classification.py:1531: UndefinedMetricWarning: Precision is ill-defined and being set to 0.0 in labels with no predicted samples. Use `zero_division` parameter to control this behavior.\n",
      "  _warn_prf(average, modifier, f\"{metric.capitalize()} is\", len(result))\n"
     ]
    },
    {
     "name": "stdout",
     "output_type": "stream",
     "text": [
      "Epoch [15/30], Loss: 3.30, Accuracy: 38.58%\n",
      "Validation Loss: 3.30, Validation Accuracy: 38.24%\n",
      "F1 Score: 0.21, Precision: 0.15, Recall: 0.38\n"
     ]
    },
    {
     "name": "stderr",
     "output_type": "stream",
     "text": [
      "e:\\MY projects\\LangSHain\\venv\\lib\\site-packages\\sklearn\\metrics\\_classification.py:1531: UndefinedMetricWarning: Precision is ill-defined and being set to 0.0 in labels with no predicted samples. Use `zero_division` parameter to control this behavior.\n",
      "  _warn_prf(average, modifier, f\"{metric.capitalize()} is\", len(result))\n"
     ]
    },
    {
     "name": "stdout",
     "output_type": "stream",
     "text": [
      "Epoch [16/30], Loss: 3.30, Accuracy: 38.58%\n",
      "Validation Loss: 3.30, Validation Accuracy: 38.24%\n",
      "F1 Score: 0.21, Precision: 0.15, Recall: 0.38\n"
     ]
    },
    {
     "name": "stderr",
     "output_type": "stream",
     "text": [
      "e:\\MY projects\\LangSHain\\venv\\lib\\site-packages\\sklearn\\metrics\\_classification.py:1531: UndefinedMetricWarning: Precision is ill-defined and being set to 0.0 in labels with no predicted samples. Use `zero_division` parameter to control this behavior.\n",
      "  _warn_prf(average, modifier, f\"{metric.capitalize()} is\", len(result))\n"
     ]
    },
    {
     "name": "stdout",
     "output_type": "stream",
     "text": [
      "Epoch [17/30], Loss: 3.30, Accuracy: 38.58%\n",
      "Validation Loss: 3.30, Validation Accuracy: 38.24%\n",
      "F1 Score: 0.21, Precision: 0.15, Recall: 0.38\n"
     ]
    },
    {
     "name": "stderr",
     "output_type": "stream",
     "text": [
      "e:\\MY projects\\LangSHain\\venv\\lib\\site-packages\\sklearn\\metrics\\_classification.py:1531: UndefinedMetricWarning: Precision is ill-defined and being set to 0.0 in labels with no predicted samples. Use `zero_division` parameter to control this behavior.\n",
      "  _warn_prf(average, modifier, f\"{metric.capitalize()} is\", len(result))\n"
     ]
    },
    {
     "name": "stdout",
     "output_type": "stream",
     "text": [
      "Epoch [18/30], Loss: 3.30, Accuracy: 38.58%\n",
      "Validation Loss: 3.30, Validation Accuracy: 38.24%\n",
      "F1 Score: 0.21, Precision: 0.15, Recall: 0.38\n"
     ]
    },
    {
     "name": "stderr",
     "output_type": "stream",
     "text": [
      "e:\\MY projects\\LangSHain\\venv\\lib\\site-packages\\sklearn\\metrics\\_classification.py:1531: UndefinedMetricWarning: Precision is ill-defined and being set to 0.0 in labels with no predicted samples. Use `zero_division` parameter to control this behavior.\n",
      "  _warn_prf(average, modifier, f\"{metric.capitalize()} is\", len(result))\n"
     ]
    },
    {
     "name": "stdout",
     "output_type": "stream",
     "text": [
      "Epoch [19/30], Loss: 3.30, Accuracy: 38.58%\n",
      "Validation Loss: 3.30, Validation Accuracy: 38.24%\n",
      "F1 Score: 0.21, Precision: 0.15, Recall: 0.38\n"
     ]
    },
    {
     "name": "stderr",
     "output_type": "stream",
     "text": [
      "e:\\MY projects\\LangSHain\\venv\\lib\\site-packages\\sklearn\\metrics\\_classification.py:1531: UndefinedMetricWarning: Precision is ill-defined and being set to 0.0 in labels with no predicted samples. Use `zero_division` parameter to control this behavior.\n",
      "  _warn_prf(average, modifier, f\"{metric.capitalize()} is\", len(result))\n"
     ]
    },
    {
     "name": "stdout",
     "output_type": "stream",
     "text": [
      "Epoch [20/30], Loss: 3.30, Accuracy: 38.58%\n",
      "Validation Loss: 3.30, Validation Accuracy: 38.24%\n",
      "F1 Score: 0.21, Precision: 0.15, Recall: 0.38\n"
     ]
    },
    {
     "name": "stderr",
     "output_type": "stream",
     "text": [
      "e:\\MY projects\\LangSHain\\venv\\lib\\site-packages\\sklearn\\metrics\\_classification.py:1531: UndefinedMetricWarning: Precision is ill-defined and being set to 0.0 in labels with no predicted samples. Use `zero_division` parameter to control this behavior.\n",
      "  _warn_prf(average, modifier, f\"{metric.capitalize()} is\", len(result))\n"
     ]
    },
    {
     "name": "stdout",
     "output_type": "stream",
     "text": [
      "Epoch [21/30], Loss: 3.30, Accuracy: 38.58%\n",
      "Validation Loss: 3.30, Validation Accuracy: 38.24%\n",
      "F1 Score: 0.21, Precision: 0.15, Recall: 0.38\n"
     ]
    },
    {
     "name": "stderr",
     "output_type": "stream",
     "text": [
      "e:\\MY projects\\LangSHain\\venv\\lib\\site-packages\\sklearn\\metrics\\_classification.py:1531: UndefinedMetricWarning: Precision is ill-defined and being set to 0.0 in labels with no predicted samples. Use `zero_division` parameter to control this behavior.\n",
      "  _warn_prf(average, modifier, f\"{metric.capitalize()} is\", len(result))\n"
     ]
    },
    {
     "name": "stdout",
     "output_type": "stream",
     "text": [
      "Epoch [22/30], Loss: 3.30, Accuracy: 38.58%\n",
      "Validation Loss: 3.30, Validation Accuracy: 38.24%\n",
      "F1 Score: 0.21, Precision: 0.15, Recall: 0.38\n"
     ]
    },
    {
     "name": "stderr",
     "output_type": "stream",
     "text": [
      "e:\\MY projects\\LangSHain\\venv\\lib\\site-packages\\sklearn\\metrics\\_classification.py:1531: UndefinedMetricWarning: Precision is ill-defined and being set to 0.0 in labels with no predicted samples. Use `zero_division` parameter to control this behavior.\n",
      "  _warn_prf(average, modifier, f\"{metric.capitalize()} is\", len(result))\n"
     ]
    },
    {
     "name": "stdout",
     "output_type": "stream",
     "text": [
      "Epoch [23/30], Loss: 3.30, Accuracy: 38.58%\n",
      "Validation Loss: 3.30, Validation Accuracy: 38.24%\n",
      "F1 Score: 0.21, Precision: 0.15, Recall: 0.38\n"
     ]
    },
    {
     "name": "stderr",
     "output_type": "stream",
     "text": [
      "e:\\MY projects\\LangSHain\\venv\\lib\\site-packages\\sklearn\\metrics\\_classification.py:1531: UndefinedMetricWarning: Precision is ill-defined and being set to 0.0 in labels with no predicted samples. Use `zero_division` parameter to control this behavior.\n",
      "  _warn_prf(average, modifier, f\"{metric.capitalize()} is\", len(result))\n"
     ]
    },
    {
     "name": "stdout",
     "output_type": "stream",
     "text": [
      "Epoch [24/30], Loss: 3.30, Accuracy: 38.58%\n",
      "Validation Loss: 3.30, Validation Accuracy: 38.24%\n",
      "F1 Score: 0.21, Precision: 0.15, Recall: 0.38\n"
     ]
    },
    {
     "name": "stderr",
     "output_type": "stream",
     "text": [
      "e:\\MY projects\\LangSHain\\venv\\lib\\site-packages\\sklearn\\metrics\\_classification.py:1531: UndefinedMetricWarning: Precision is ill-defined and being set to 0.0 in labels with no predicted samples. Use `zero_division` parameter to control this behavior.\n",
      "  _warn_prf(average, modifier, f\"{metric.capitalize()} is\", len(result))\n"
     ]
    },
    {
     "name": "stdout",
     "output_type": "stream",
     "text": [
      "Epoch [25/30], Loss: 3.30, Accuracy: 38.58%\n",
      "Validation Loss: 3.30, Validation Accuracy: 38.24%\n",
      "F1 Score: 0.21, Precision: 0.15, Recall: 0.38\n"
     ]
    },
    {
     "name": "stderr",
     "output_type": "stream",
     "text": [
      "e:\\MY projects\\LangSHain\\venv\\lib\\site-packages\\sklearn\\metrics\\_classification.py:1531: UndefinedMetricWarning: Precision is ill-defined and being set to 0.0 in labels with no predicted samples. Use `zero_division` parameter to control this behavior.\n",
      "  _warn_prf(average, modifier, f\"{metric.capitalize()} is\", len(result))\n"
     ]
    },
    {
     "name": "stdout",
     "output_type": "stream",
     "text": [
      "Epoch [26/30], Loss: 3.30, Accuracy: 38.58%\n",
      "Validation Loss: 3.30, Validation Accuracy: 38.24%\n",
      "F1 Score: 0.21, Precision: 0.15, Recall: 0.38\n"
     ]
    },
    {
     "name": "stderr",
     "output_type": "stream",
     "text": [
      "e:\\MY projects\\LangSHain\\venv\\lib\\site-packages\\sklearn\\metrics\\_classification.py:1531: UndefinedMetricWarning: Precision is ill-defined and being set to 0.0 in labels with no predicted samples. Use `zero_division` parameter to control this behavior.\n",
      "  _warn_prf(average, modifier, f\"{metric.capitalize()} is\", len(result))\n"
     ]
    },
    {
     "name": "stdout",
     "output_type": "stream",
     "text": [
      "Epoch [27/30], Loss: 3.30, Accuracy: 38.58%\n",
      "Validation Loss: 3.30, Validation Accuracy: 38.24%\n",
      "F1 Score: 0.21, Precision: 0.15, Recall: 0.38\n"
     ]
    },
    {
     "name": "stderr",
     "output_type": "stream",
     "text": [
      "e:\\MY projects\\LangSHain\\venv\\lib\\site-packages\\sklearn\\metrics\\_classification.py:1531: UndefinedMetricWarning: Precision is ill-defined and being set to 0.0 in labels with no predicted samples. Use `zero_division` parameter to control this behavior.\n",
      "  _warn_prf(average, modifier, f\"{metric.capitalize()} is\", len(result))\n"
     ]
    },
    {
     "name": "stdout",
     "output_type": "stream",
     "text": [
      "Epoch [28/30], Loss: 3.30, Accuracy: 38.58%\n",
      "Validation Loss: 3.30, Validation Accuracy: 38.24%\n",
      "F1 Score: 0.21, Precision: 0.15, Recall: 0.38\n"
     ]
    },
    {
     "name": "stderr",
     "output_type": "stream",
     "text": [
      "e:\\MY projects\\LangSHain\\venv\\lib\\site-packages\\sklearn\\metrics\\_classification.py:1531: UndefinedMetricWarning: Precision is ill-defined and being set to 0.0 in labels with no predicted samples. Use `zero_division` parameter to control this behavior.\n",
      "  _warn_prf(average, modifier, f\"{metric.capitalize()} is\", len(result))\n"
     ]
    },
    {
     "name": "stdout",
     "output_type": "stream",
     "text": [
      "Epoch [29/30], Loss: 3.30, Accuracy: 38.58%\n",
      "Validation Loss: 3.30, Validation Accuracy: 38.24%\n",
      "F1 Score: 0.21, Precision: 0.15, Recall: 0.38\n"
     ]
    },
    {
     "name": "stderr",
     "output_type": "stream",
     "text": [
      "e:\\MY projects\\LangSHain\\venv\\lib\\site-packages\\sklearn\\metrics\\_classification.py:1531: UndefinedMetricWarning: Precision is ill-defined and being set to 0.0 in labels with no predicted samples. Use `zero_division` parameter to control this behavior.\n",
      "  _warn_prf(average, modifier, f\"{metric.capitalize()} is\", len(result))\n"
     ]
    },
    {
     "name": "stdout",
     "output_type": "stream",
     "text": [
      "Epoch [30/30], Loss: 3.30, Accuracy: 38.58%\n",
      "Validation Loss: 3.30, Validation Accuracy: 38.24%\n",
      "F1 Score: 0.21, Precision: 0.15, Recall: 0.38\n"
     ]
    },
    {
     "name": "stderr",
     "output_type": "stream",
     "text": [
      "e:\\MY projects\\LangSHain\\venv\\lib\\site-packages\\sklearn\\metrics\\_classification.py:1531: UndefinedMetricWarning: Precision is ill-defined and being set to 0.0 in labels with no predicted samples. Use `zero_division` parameter to control this behavior.\n",
      "  _warn_prf(average, modifier, f\"{metric.capitalize()} is\", len(result))\n"
     ]
    },
    {
     "data": {
      "image/png": "[encoded data removed]",
      "text/plain": [
       "<Figure size 1200x500 with 2 Axes>"
      ]
     },
     "metadata": {},
     "output_type": "display_data"
    }
   ],
   "source": [
    "# Define BiDirectionalLSTM Model\n",
    "class BiDirectionalLSTM(nn.Module):\n",
    "    def __init__(self, input_size, hidden_size, num_layers, output_size):\n",
    "        super(BiDirectionalLSTM, self).__init__()\n",
    "        self.hidden_size = hidden_size\n",
    "        self.num_layers = num_layers\n",
    "\n",
    "        # Bi-directional LSTM layer\n",
    "        self.lstm = nn.LSTM(input_size, hidden_size, num_layers,\n",
    "                            batch_first=True, bidirectional=True)\n",
    "\n",
    "        # Fully connected layer\n",
    "        self.fc = nn.Linear(hidden_size * 2, output_size)  # *2 for bidirectional output\n",
    "        \n",
    "    def forward(self, x):\n",
    "        # Initialize hidden and cell states\n",
    "        batch_size = x.size(0)\n",
    "        h0 = torch.zeros(self.num_layers * 2, batch_size, self.hidden_size).to(x.device)  # 2 for bidirectional\n",
    "        c0 = torch.zeros(self.num_layers * 2, batch_size, self.hidden_size).to(x.device)\n",
    "\n",
    "        # Forward propagate LSTM\n",
    "        out, _ = self.lstm(x, (h0, c0))\n",
    "\n",
    "        # Decode the hidden state of the last time step\n",
    "        out = self.fc(out[:, -1, :])  # Use the last time step's output (for classification)\n",
    "\n",
    "        # Apply softmax to get probabilities for each class\n",
    "        out = F.softmax(out, dim=1)  # Normalize output to be a probability distribution\n",
    "\n",
    "        return out\n",
    "\n",
    "# Initialize Model, Loss, Optimizer\n",
    "input_dim = stacked_tensors_x.shape[2]  # Example: 768 (embedding size)\n",
    "hidden_dim = 256\n",
    "num_layers = 1\n",
    "num_classes = 22  # Number of categories\n",
    "\n",
    "modelLSTM = BiDirectionalLSTM(input_size=input_dim, hidden_size=hidden_dim, num_layers=num_layers, output_size=num_classes)\n",
    "\n",
    "criterion = nn.CrossEntropyLoss()\n",
    "optimizer = optim.Adam(modelLSTM.parameters(), lr=1e-4)  \n",
    "\n",
    "# Training Loop\n",
    "num_epochs = 30\n",
    "device = torch.device(\"cuda\" if torch.cuda.is_available() else \"cpu\")\n",
    "modelLSTM = modelLSTM.to(device)  \n",
    "\n",
    "train_losses, val_losses = [], []\n",
    "train_accuracies, val_accuracies = [], []\n",
    "\n",
    "def plot_metrics(train_losses, val_losses, train_accuracies, val_accuracies):\n",
    "    epochs = range(1, len(train_losses) + 1)\n",
    "\n",
    "    plt.figure(figsize=(12, 5))\n",
    "\n",
    "    # Plot Loss\n",
    "    plt.subplot(1, 2, 1)\n",
    "    plt.plot(epochs, train_losses, 'bo-', label='Training Loss')\n",
    "    plt.plot(epochs, val_losses, 'ro-', label='Validation Loss')\n",
    "    plt.title('Training and Validation Loss')\n",
    "    plt.xlabel('Epochs')\n",
    "    plt.ylabel('Loss')\n",
    "    plt.legend()\n",
    "\n",
    "    # Plot Accuracy\n",
    "    plt.subplot(1, 2, 2)\n",
    "    plt.plot(epochs, train_accuracies, 'bo-', label='Training Accuracy')\n",
    "    plt.plot(epochs, val_accuracies, 'ro-', label='Validation Accuracy')\n",
    "    plt.title('Training and Validation Accuracy')\n",
    "    plt.xlabel('Epochs')\n",
    "    plt.ylabel('Accuracy (%)')\n",
    "    plt.legend()\n",
    "\n",
    "    plt.tight_layout()\n",
    "    plt.show()\n",
    "\n",
    "for epoch in range(num_epochs):\n",
    "    modelLSTM.train()  # Example with GRU\n",
    "    train_loss = 0.0\n",
    "    correct_preds = 0\n",
    "    total_preds = 0\n",
    "\n",
    "    for embeddings, labels in train_loader:\n",
    "        embeddings, labels = embeddings.to(device), labels.to(device)\n",
    "        optimizer.zero_grad()\n",
    "        outputs = modelLSTM(embeddings)  # Example with GRU\n",
    "        loss = criterion(outputs, labels)\n",
    "        loss.backward()\n",
    "        optimizer.step()\n",
    "\n",
    "        train_loss += loss.item() * embeddings.size(0)  # Sum the loss across all samples\n",
    "        _, predicted = torch.max(outputs, dim=1)\n",
    "        correct_preds += (predicted == labels).sum().item()\n",
    "        total_preds += labels.size(0)\n",
    "\n",
    "    train_loss_percentage = (train_loss / total_preds) \n",
    "    train_accuracy = 100 * correct_preds / total_preds\n",
    "    train_losses.append(train_loss_percentage)\n",
    "    train_accuracies.append(train_accuracy)\n",
    "    print(f\"Epoch [{epoch+1}/{num_epochs}], Loss: {train_loss_percentage:.2f}, Accuracy: {train_accuracy:.2f}%\")\n",
    "\n",
    "    # Validation\n",
    "    modelLSTM.eval()  # Example with GRU\n",
    "    val_loss = 0.0\n",
    "    correct_preds = 0\n",
    "    total_preds = 0\n",
    "\n",
    "    all_labels = []\n",
    "    all_preds = []\n",
    "\n",
    "    with torch.no_grad():\n",
    "        for embeddings, labels in val_loader:\n",
    "            embeddings, labels = embeddings.to(device), labels.to(device)\n",
    "            outputs = modelLSTM(embeddings)  # Example with GRU\n",
    "            loss = criterion(outputs, labels)\n",
    "            val_loss += loss.item() * embeddings.size(0)  # Sum the loss across all samples\n",
    "            _, predicted = torch.max(outputs, dim=1)\n",
    "            correct_preds += (predicted == labels).sum().item()\n",
    "            total_preds += labels.size(0)\n",
    "\n",
    "            all_labels.extend(labels.cpu().numpy())\n",
    "            all_preds.extend(predicted.cpu().numpy())\n",
    "\n",
    "    val_loss_percentage = (val_loss / total_preds) \n",
    "    val_accuracy = 100 * correct_preds / total_preds\n",
    "    val_losses.append(val_loss_percentage)\n",
    "    val_accuracies.append(val_accuracy)\n",
    "    print(f\"Validation Loss: {val_loss_percentage:.2f}, Validation Accuracy: {val_accuracy:.2f}%\")\n",
    "\n",
    "    # Metrics\n",
    "    f1 = f1_score(all_labels, all_preds, average='weighted')\n",
    "    precision = precision_score(all_labels, all_preds, average='weighted')\n",
    "    recall = recall_score(all_labels, all_preds, average='weighted')\n",
    "    print(f\"F1 Score: {f1:.2f}, Precision: {precision:.2f}, Recall: {recall:.2f}\")\n",
    "\n",
    "    # # Confusion Matrix\n",
    "    # cm = confusion_matrix(all_labels, all_preds)\n",
    "    # plt.figure(figsize=(10, 8))\n",
    "    # sns.heatmap(cm, annot=True, fmt='d', cmap='Blues', xticklabels=label_to_index.keys(), yticklabels=label_to_index.keys())\n",
    "    # plt.title('Confusion Matrix')\n",
    "    # plt.xlabel('Predicted Labels')\n",
    "    # plt.ylabel('True Labels')\n",
    "    # plt.show()\n",
    "\n",
    "plot_metrics(train_losses, val_losses, train_accuracies, val_accuracies)\n"
   ]
  },
  {
   "cell_type": "code",
   "execution_count": 37,
   "metadata": {},
   "outputs": [],
   "source": [
    "torch.save(model.state_dict(), \"transformer_classifier6.pth\")\n"
   ]
  },
  {
   "cell_type": "code",
   "execution_count": 64,
   "metadata": {},
   "outputs": [
    {
     "data": {
      "text/plain": [
       "TransformerClassifier(\n",
       "  (transformer): TransformerEncoder(\n",
       "    (layers): ModuleList(\n",
       "      (0-5): 6 x TransformerEncoderLayer(\n",
       "        (self_attn): MultiheadAttention(\n",
       "          (out_proj): NonDynamicallyQuantizableLinear(in_features=768, out_features=768, bias=True)\n",
       "        )\n",
       "        (linear1): Linear(in_features=768, out_features=256, bias=True)\n",
       "        (dropout): Dropout(p=0.5, inplace=False)\n",
       "        (linear2): Linear(in_features=256, out_features=768, bias=True)\n",
       "        (norm1): LayerNorm((768,), eps=1e-05, elementwise_affine=True)\n",
       "        (norm2): LayerNorm((768,), eps=1e-05, elementwise_affine=True)\n",
       "        (dropout1): Dropout(p=0.5, inplace=False)\n",
       "        (dropout2): Dropout(p=0.5, inplace=False)\n",
       "      )\n",
       "    )\n",
       "  )\n",
       "  (fc): Linear(in_features=768, out_features=22, bias=True)\n",
       "  (dropout): Dropout(p=0.5, inplace=False)\n",
       ")"
      ]
     },
     "execution_count": 64,
     "metadata": {},
     "output_type": "execute_result"
    }
   ],
   "source": [
    "num_classes = 22  # Should match the original training\n",
    "model = TransformerClassifier(input_dim=768, num_classes=num_classes)\n",
    "model.load_state_dict(torch.load(\"transformer_classifier6.pth\"))\n",
    "model.to(device)\n"
   ]
  },
  {
   "cell_type": "code",
   "execution_count": 75,
   "metadata": {},
   "outputs": [
    {
     "data": {
      "text/plain": [
       "TransformerClassifier(\n",
       "  (transformer): TransformerEncoder(\n",
       "    (layers): ModuleList(\n",
       "      (0-5): 6 x TransformerEncoderLayer(\n",
       "        (self_attn): MultiheadAttention(\n",
       "          (out_proj): NonDynamicallyQuantizableLinear(in_features=768, out_features=768, bias=True)\n",
       "        )\n",
       "        (linear1): Linear(in_features=768, out_features=256, bias=True)\n",
       "        (dropout): Dropout(p=0.5, inplace=False)\n",
       "        (linear2): Linear(in_features=256, out_features=768, bias=True)\n",
       "        (norm1): LayerNorm((768,), eps=1e-05, elementwise_affine=True)\n",
       "        (norm2): LayerNorm((768,), eps=1e-05, elementwise_affine=True)\n",
       "        (dropout1): Dropout(p=0.5, inplace=False)\n",
       "        (dropout2): Dropout(p=0.5, inplace=False)\n",
       "      )\n",
       "    )\n",
       "  )\n",
       "  (fc): Linear(in_features=768, out_features=35, bias=True)\n",
       "  (dropout): Dropout(p=0.5, inplace=False)\n",
       ")"
      ]
     },
     "execution_count": 75,
     "metadata": {},
     "output_type": "execute_result"
    }
   ],
   "source": [
    "num_classes = 35  # Should match the original training\n",
    "model = TransformerClassifier(input_dim=768, num_classes=num_classes)\n",
    "model.load_state_dict(torch.load(\"transformer_classifier2.pth\"))\n",
    "model.to(device)"
   ]
  },
  {
   "cell_type": "code",
   "execution_count": 76,
   "metadata": {
    "id": "Voc8q_o3nQop"
   },
   "outputs": [],
   "source": [
    "def predict_category(input_text, tokenizer, embedding_model, classifier_model, categories, device):\n",
    "    # Tokenize and generate embeddings\n",
    "    tokens = tokenizer(input_text, return_tensors=\"pt\", padding=True, truncation=True).to(device)\n",
    "    embeddings = embedding_model(**tokens).last_hidden_state  # Assuming sequence embeddings\n",
    "    embeddings = embeddings.mean(dim=1)  # Collapse sequence to a single vector\n",
    "\n",
    "    # Add sequence dimension if needed\n",
    "    embeddings = embeddings.unsqueeze(1)  # Shape: (batch_size, seq_len=1, input_dim)\n",
    "\n",
    "    # Classify\n",
    "    classifier_model.eval()\n",
    "    with torch.no_grad():\n",
    "        outputs = classifier_model(embeddings)\n",
    "        _, predicted_idx = torch.max(outputs, dim=1)\n",
    "\n",
    "    # Map the predicted index to the category name\n",
    "    return categories[predicted_idx.item()]\n"
   ]
  },
  {
   "cell_type": "code",
   "execution_count": 77,
   "metadata": {},
   "outputs": [],
   "source": [
    "categories = list(label_to_index.keys())"
   ]
  },
  {
   "cell_type": "code",
   "execution_count": 78,
   "metadata": {},
   "outputs": [
    {
     "name": "stdout",
     "output_type": "stream",
     "text": [
      "<class 'transformers.models.bert.modeling_bert.BertModel'>\n"
     ]
    }
   ],
   "source": [
    "print(type(embedding_model))\n"
   ]
  },
  {
   "cell_type": "code",
   "execution_count": 79,
   "metadata": {},
   "outputs": [
    {
     "name": "stdout",
     "output_type": "stream",
     "text": [
      "['U.S. NEWS', 'COMEDY', 'PARENTING', 'WORLD NEWS', 'CULTURE & ARTS', 'TECH', 'SPORTS', 'ENTERTAINMENT', 'POLITICS', 'WEIRD NEWS', 'ENVIRONMENT', 'EDUCATION', 'CRIME', 'SCIENCE', 'WELLNESS', 'BUSINESS', 'STYLE & BEAUTY', 'FOOD & DRINK', 'MEDIA', 'QUEER VOICES', 'HOME & LIVING', 'WOMEN']\n"
     ]
    }
   ],
   "source": [
    "# Extract categories from label_to_index dictionary\n",
    "categories = list(label_to_index.keys())\n",
    "\n",
    "# Example: Print categories\n",
    "print(categories)\n"
   ]
  },
  {
   "cell_type": "code",
   "execution_count": 80,
   "metadata": {},
   "outputs": [
    {
     "name": "stdout",
     "output_type": "stream",
     "text": [
      "Predicted category for input 1: TECH\n",
      "Predicted category for input 2: TECH\n",
      "Predicted category for input 3: WORLD NEWS\n",
      "Predicted category for input 4: ENVIRONMENT\n",
      "Predicted category for input 5: ENVIRONMENT\n",
      "Predicted category for input 6: TECH\n",
      "Predicted category for input 7: TECH\n",
      "Predicted category for input 8: PARENTING\n"
     ]
    }
   ],
   "source": [
    "# Define the category names\n",
    "categories = list(label_to_index.keys())  # Assuming this maps indices to category names\n",
    "\n",
    "# Example 1: General Knowledge\n",
    "input_text1 = \"What are the latest advancements in artificial intelligence?\"\n",
    "predicted_category1 = predict_category(input_text1, tokenizer, embedding_model, model, categories, device)\n",
    "print(f\"Predicted category for input 1: {predicted_category1}\")\n",
    "\n",
    "# Example 2: Health and Wellness\n",
    "input_text2 = \"How can I improve my mental health through better sleep?\"\n",
    "predicted_category2 = predict_category(input_text2, tokenizer, embedding_model, model, categories, device)\n",
    "print(f\"Predicted category for input 2: {predicted_category2}\")\n",
    "\n",
    "# Example 3: Sports News\n",
    "input_text3 = \"Who won the last football world cup?\"\n",
    "predicted_category3 = predict_category(input_text3, tokenizer, embedding_model, model, categories, device)\n",
    "print(f\"Predicted category for input 3: {predicted_category3}\")\n",
    "\n",
    "# Example 4: Technology Trends\n",
    "input_text4 = \"Explain the concept of quantum computing and its applications.\"\n",
    "predicted_category4 = predict_category(input_text4, tokenizer, embedding_model, model, categories, device)\n",
    "print(f\"Predicted category for input 4: {predicted_category4}\")\n",
    "\n",
    "# Example 5: Entertainment\n",
    "input_text5 = \"What are the most popular movies released this year?\"\n",
    "predicted_category5 = predict_category(input_text5, tokenizer, embedding_model, model, categories, device)\n",
    "print(f\"Predicted category for input 5: {predicted_category5}\")\n",
    "\n",
    "# Example 6: Personal Finance\n",
    "input_text6 = \"How do I start investing in the stock market as a beginner?\"\n",
    "predicted_category6 = predict_category(input_text6, tokenizer, embedding_model, model, categories, device)\n",
    "print(f\"Predicted category for input 6: {predicted_category6}\")\n",
    "\n",
    "# Example 7: Science and Research\n",
    "input_text7 = \"What are the implications of CRISPR in genetic engineering?\"\n",
    "predicted_category7 = predict_category(input_text7, tokenizer, embedding_model, model, categories, device)\n",
    "print(f\"Predicted category for input 7: {predicted_category7}\")\n",
    "\n",
    "# Example 8: Current Events\n",
    "input_text8 = \"What are the latest updates on the global climate crisis?\"\n",
    "predicted_category8 = predict_category(input_text8, tokenizer, embedding_model, model, categories, device)\n",
    "print(f\"Predicted category for input 8: {predicted_category8}\")\n"
   ]
  },
  {
   "cell_type": "code",
   "execution_count": 81,
   "metadata": {},
   "outputs": [
    {
     "name": "stdout",
     "output_type": "stream",
     "text": [
      "Predicted category for input 9: TECH\n",
      "Predicted category for input 10: TECH\n",
      "Predicted category for input 11: ENVIRONMENT\n",
      "Predicted category for input 12: TECH\n",
      "Predicted category for input 13: TECH\n",
      "Predicted category for input 14: PARENTING\n",
      "Predicted category for input 15: ENVIRONMENT\n",
      "Predicted category for input 16: TECH\n"
     ]
    }
   ],
   "source": [
    "# Example 9: Travel and Tourism\n",
    "input_text9 = \"What are the best destinations to visit in 2024?\"\n",
    "predicted_category9 = predict_category(input_text9, tokenizer, embedding_model, model, categories, device)\n",
    "print(f\"Predicted category for input 9: {predicted_category9}\")\n",
    "\n",
    "# Example 10: Education\n",
    "input_text10 = \"How can I improve my study habits for better exam performance?\"\n",
    "predicted_category10 = predict_category(input_text10, tokenizer, embedding_model, model, categories, device)\n",
    "print(f\"Predicted category for input 10: {predicted_category10}\")\n",
    "\n",
    "# Example 11: Environment\n",
    "input_text11 = \"What are the key factors contributing to deforestation?\"\n",
    "predicted_category11 = predict_category(input_text11, tokenizer, embedding_model, model, categories, device)\n",
    "print(f\"Predicted category for input 11: {predicted_category11}\")\n",
    "\n",
    "# Example 12: Business and Entrepreneurship\n",
    "input_text12 = \"What are the latest trends in e-commerce for 2024?\"\n",
    "predicted_category12 = predict_category(input_text12, tokenizer, embedding_model, model, categories, device)\n",
    "print(f\"Predicted category for input 12: {predicted_category12}\")\n",
    "\n",
    "# Example 13: Food and Nutrition\n",
    "input_text13 = \"What are the health benefits of a plant-based diet?\"\n",
    "predicted_category13 = predict_category(input_text13, tokenizer, embedding_model, model, categories, device)\n",
    "print(f\"Predicted category for input 13: {predicted_category13}\")\n",
    "\n",
    "# Example 14: History\n",
    "input_text14 = \"What were the causes of the fall of the Roman Empire?\"\n",
    "predicted_category14 = predict_category(input_text14, tokenizer, embedding_model, model, categories, device)\n",
    "print(f\"Predicted category for input 14: {predicted_category14}\")\n",
    "\n",
    "# Example 15: Art and Culture\n",
    "input_text15 = \"How did the Impressionist movement change the art world?\"\n",
    "predicted_category15 = predict_category(input_text15, tokenizer, embedding_model, model, categories, device)\n",
    "print(f\"Predicted category for input 15: {predicted_category15}\")\n",
    "\n",
    "# Example 16: Politics\n",
    "input_text16 = \"What are the key issues in the upcoming presidential election?\"\n",
    "predicted_category16 = predict_category(input_text16, tokenizer, embedding_model, model, categories, device)\n",
    "print(f\"Predicted category for input 16: {predicted_category16}\")\n"
   ]
  },
  {
   "cell_type": "code",
   "execution_count": 82,
   "metadata": {},
   "outputs": [
    {
     "name": "stdout",
     "output_type": "stream",
     "text": [
      "Predicted category: TECH\n"
     ]
    }
   ],
   "source": [
    "# Example usage\n",
    "input_text = \"What is happening in the world of finance?\"\n",
    "categories = list(label_to_index.keys())\n",
    "\n",
    "# Assuming `tokenizer`, `embedding_model`, and `classifier_model` are already loaded\n",
    "predicted_category = predict_category(input_text, tokenizer, embedding_model, model, categories, device)\n",
    "print(f\"Predicted category: {predicted_category}\")"
   ]
  },
  {
   "cell_type": "code",
   "execution_count": 83,
   "metadata": {},
   "outputs": [
    {
     "name": "stdout",
     "output_type": "stream",
     "text": [
      "Predicted category: WORLD NEWS\n"
     ]
    }
   ],
   "source": [
    "input_text = \"Who won the Champions League this year?\"\n",
    "predicted_category = predict_category(input_text, tokenizer, embedding_model, model, categories, device)\n",
    "print(f\"Predicted category: {predicted_category}\")\n"
   ]
  },
  {
   "cell_type": "code",
   "execution_count": 84,
   "metadata": {},
   "outputs": [
    {
     "name": "stdout",
     "output_type": "stream",
     "text": [
      "Predicted category: TECH\n"
     ]
    }
   ],
   "source": [
    "input_text = \"What are the latest advancements in artificial intelligence?\"\n",
    "predicted_category = predict_category(input_text, tokenizer, embedding_model, model, categories, device)\n",
    "print(f\"Predicted category: {predicted_category}\")\n"
   ]
  },
  {
   "cell_type": "code",
   "execution_count": 85,
   "metadata": {},
   "outputs": [
    {
     "name": "stdout",
     "output_type": "stream",
     "text": [
      "WARNING:tensorflow:From e:\\MY projects\\LangSHain\\venv\\lib\\site-packages\\tf_keras\\src\\losses.py:2976: The name tf.losses.sparse_softmax_cross_entropy is deprecated. Please use tf.compat.v1.losses.sparse_softmax_cross_entropy instead.\n",
      "\n"
     ]
    }
   ],
   "source": [
    "from sentence_transformers import SentenceTransformer"
   ]
  },
  {
   "cell_type": "code",
   "execution_count": 87,
   "metadata": {},
   "outputs": [],
   "source": [
    "model = SentenceTransformer('all-MiniLM-L6-v2')"
   ]
  },
  {
   "cell_type": "code",
   "execution_count": 88,
   "metadata": {},
   "outputs": [],
   "source": [
    "sentence = \"This is an example sentence\"\n",
    "ex_embedding = model.encode(sentence)"
   ]
  },
  {
   "cell_type": "code",
   "execution_count": 89,
   "metadata": {},
   "outputs": [
    {
     "data": {
      "text/plain": [
       "(numpy.ndarray, (384,))"
      ]
     },
     "execution_count": 89,
     "metadata": {},
     "output_type": "execute_result"
    }
   ],
   "source": [
    "type(ex_embedding), ex_embedding.shape"
   ]
  },
  {
   "cell_type": "code",
   "execution_count": 90,
   "metadata": {},
   "outputs": [
    {
     "data": {
      "text/plain": [
       "(torch.Tensor, tensor([[1.]]))"
      ]
     },
     "execution_count": 90,
     "metadata": {},
     "output_type": "execute_result"
    }
   ],
   "source": [
    "sentence_2 = \"This is a different example sentence\"\n",
    "ex_embedding_2 = model.encode(sentence)\n",
    "sim = model.similarity(ex_embedding, ex_embedding_2)\n",
    "type(sim), sim"
   ]
  },
  {
   "cell_type": "code",
   "execution_count": 91,
   "metadata": {},
   "outputs": [
    {
     "ename": "IndexError",
     "evalue": "too many indices for tensor of dimension 3",
     "output_type": "error",
     "traceback": [
      "\u001b[1;31m---------------------------------------------------------------------------\u001b[0m",
      "\u001b[1;31mIndexError\u001b[0m                                Traceback (most recent call last)",
      "Cell \u001b[1;32mIn[91], line 2\u001b[0m\n\u001b[0;32m      1\u001b[0m input_text \u001b[38;5;241m=\u001b[39m \u001b[38;5;124m\"\u001b[39m\u001b[38;5;124mWhat are the latest advancements in artificial intelligence?\u001b[39m\u001b[38;5;124m\"\u001b[39m\n\u001b[1;32m----> 2\u001b[0m predicted_category \u001b[38;5;241m=\u001b[39m \u001b[43mpredict_category\u001b[49m\u001b[43m(\u001b[49m\u001b[43minput_text\u001b[49m\u001b[43m,\u001b[49m\u001b[43m \u001b[49m\u001b[43mtokenizer\u001b[49m\u001b[43m,\u001b[49m\u001b[43m \u001b[49m\u001b[43membedding_model\u001b[49m\u001b[43m,\u001b[49m\u001b[43m \u001b[49m\u001b[43mmodel\u001b[49m\u001b[43m,\u001b[49m\u001b[43m \u001b[49m\u001b[43mcategories\u001b[49m\u001b[43m,\u001b[49m\u001b[43m \u001b[49m\u001b[43mdevice\u001b[49m\u001b[43m)\u001b[49m\n\u001b[0;32m      3\u001b[0m \u001b[38;5;28mprint\u001b[39m(\u001b[38;5;124mf\u001b[39m\u001b[38;5;124m\"\u001b[39m\u001b[38;5;124mPredicted category: \u001b[39m\u001b[38;5;132;01m{\u001b[39;00mpredicted_category\u001b[38;5;132;01m}\u001b[39;00m\u001b[38;5;124m\"\u001b[39m)\n\u001b[0;32m      5\u001b[0m sentence \u001b[38;5;241m=\u001b[39m \u001b[38;5;124m\"\u001b[39m\u001b[38;5;124mThis is an example sentence\u001b[39m\u001b[38;5;124m\"\u001b[39m\n",
      "Cell \u001b[1;32mIn[76], line 13\u001b[0m, in \u001b[0;36mpredict_category\u001b[1;34m(input_text, tokenizer, embedding_model, classifier_model, categories, device)\u001b[0m\n\u001b[0;32m     11\u001b[0m classifier_model\u001b[38;5;241m.\u001b[39meval()\n\u001b[0;32m     12\u001b[0m \u001b[38;5;28;01mwith\u001b[39;00m torch\u001b[38;5;241m.\u001b[39mno_grad():\n\u001b[1;32m---> 13\u001b[0m     outputs \u001b[38;5;241m=\u001b[39m \u001b[43mclassifier_model\u001b[49m\u001b[43m(\u001b[49m\u001b[43membeddings\u001b[49m\u001b[43m)\u001b[49m\n\u001b[0;32m     14\u001b[0m     _, predicted_idx \u001b[38;5;241m=\u001b[39m torch\u001b[38;5;241m.\u001b[39mmax(outputs, dim\u001b[38;5;241m=\u001b[39m\u001b[38;5;241m1\u001b[39m)\n\u001b[0;32m     16\u001b[0m \u001b[38;5;66;03m# Map the predicted index to the category name\u001b[39;00m\n",
      "File \u001b[1;32m~\\AppData\\Roaming\\Python\\Python310\\site-packages\\torch\\nn\\modules\\module.py:1518\u001b[0m, in \u001b[0;36mModule._wrapped_call_impl\u001b[1;34m(self, *args, **kwargs)\u001b[0m\n\u001b[0;32m   1516\u001b[0m     \u001b[38;5;28;01mreturn\u001b[39;00m \u001b[38;5;28mself\u001b[39m\u001b[38;5;241m.\u001b[39m_compiled_call_impl(\u001b[38;5;241m*\u001b[39margs, \u001b[38;5;241m*\u001b[39m\u001b[38;5;241m*\u001b[39mkwargs)  \u001b[38;5;66;03m# type: ignore[misc]\u001b[39;00m\n\u001b[0;32m   1517\u001b[0m \u001b[38;5;28;01melse\u001b[39;00m:\n\u001b[1;32m-> 1518\u001b[0m     \u001b[38;5;28;01mreturn\u001b[39;00m \u001b[38;5;28mself\u001b[39m\u001b[38;5;241m.\u001b[39m_call_impl(\u001b[38;5;241m*\u001b[39margs, \u001b[38;5;241m*\u001b[39m\u001b[38;5;241m*\u001b[39mkwargs)\n",
      "File \u001b[1;32m~\\AppData\\Roaming\\Python\\Python310\\site-packages\\torch\\nn\\modules\\module.py:1527\u001b[0m, in \u001b[0;36mModule._call_impl\u001b[1;34m(self, *args, **kwargs)\u001b[0m\n\u001b[0;32m   1522\u001b[0m \u001b[38;5;66;03m# If we don't have any hooks, we want to skip the rest of the logic in\u001b[39;00m\n\u001b[0;32m   1523\u001b[0m \u001b[38;5;66;03m# this function, and just call forward.\u001b[39;00m\n\u001b[0;32m   1524\u001b[0m \u001b[38;5;28;01mif\u001b[39;00m \u001b[38;5;129;01mnot\u001b[39;00m (\u001b[38;5;28mself\u001b[39m\u001b[38;5;241m.\u001b[39m_backward_hooks \u001b[38;5;129;01mor\u001b[39;00m \u001b[38;5;28mself\u001b[39m\u001b[38;5;241m.\u001b[39m_backward_pre_hooks \u001b[38;5;129;01mor\u001b[39;00m \u001b[38;5;28mself\u001b[39m\u001b[38;5;241m.\u001b[39m_forward_hooks \u001b[38;5;129;01mor\u001b[39;00m \u001b[38;5;28mself\u001b[39m\u001b[38;5;241m.\u001b[39m_forward_pre_hooks\n\u001b[0;32m   1525\u001b[0m         \u001b[38;5;129;01mor\u001b[39;00m _global_backward_pre_hooks \u001b[38;5;129;01mor\u001b[39;00m _global_backward_hooks\n\u001b[0;32m   1526\u001b[0m         \u001b[38;5;129;01mor\u001b[39;00m _global_forward_hooks \u001b[38;5;129;01mor\u001b[39;00m _global_forward_pre_hooks):\n\u001b[1;32m-> 1527\u001b[0m     \u001b[38;5;28;01mreturn\u001b[39;00m forward_call(\u001b[38;5;241m*\u001b[39margs, \u001b[38;5;241m*\u001b[39m\u001b[38;5;241m*\u001b[39mkwargs)\n\u001b[0;32m   1529\u001b[0m \u001b[38;5;28;01mtry\u001b[39;00m:\n\u001b[0;32m   1530\u001b[0m     result \u001b[38;5;241m=\u001b[39m \u001b[38;5;28;01mNone\u001b[39;00m\n",
      "File \u001b[1;32me:\\MY projects\\LangSHain\\venv\\lib\\site-packages\\sentence_transformers\\SentenceTransformer.py:668\u001b[0m, in \u001b[0;36mSentenceTransformer.forward\u001b[1;34m(self, input, **kwargs)\u001b[0m\n\u001b[0;32m    666\u001b[0m     module_kwarg_keys \u001b[38;5;241m=\u001b[39m \u001b[38;5;28mself\u001b[39m\u001b[38;5;241m.\u001b[39mmodule_kwargs\u001b[38;5;241m.\u001b[39mget(module_name, [])\n\u001b[0;32m    667\u001b[0m     module_kwargs \u001b[38;5;241m=\u001b[39m {key: value \u001b[38;5;28;01mfor\u001b[39;00m key, value \u001b[38;5;129;01min\u001b[39;00m kwargs\u001b[38;5;241m.\u001b[39mitems() \u001b[38;5;28;01mif\u001b[39;00m key \u001b[38;5;129;01min\u001b[39;00m module_kwarg_keys}\n\u001b[1;32m--> 668\u001b[0m     \u001b[38;5;28minput\u001b[39m \u001b[38;5;241m=\u001b[39m module(\u001b[38;5;28minput\u001b[39m, \u001b[38;5;241m*\u001b[39m\u001b[38;5;241m*\u001b[39mmodule_kwargs)\n\u001b[0;32m    669\u001b[0m \u001b[38;5;28;01mreturn\u001b[39;00m \u001b[38;5;28minput\u001b[39m\n",
      "File \u001b[1;32m~\\AppData\\Roaming\\Python\\Python310\\site-packages\\torch\\nn\\modules\\module.py:1518\u001b[0m, in \u001b[0;36mModule._wrapped_call_impl\u001b[1;34m(self, *args, **kwargs)\u001b[0m\n\u001b[0;32m   1516\u001b[0m     \u001b[38;5;28;01mreturn\u001b[39;00m \u001b[38;5;28mself\u001b[39m\u001b[38;5;241m.\u001b[39m_compiled_call_impl(\u001b[38;5;241m*\u001b[39margs, \u001b[38;5;241m*\u001b[39m\u001b[38;5;241m*\u001b[39mkwargs)  \u001b[38;5;66;03m# type: ignore[misc]\u001b[39;00m\n\u001b[0;32m   1517\u001b[0m \u001b[38;5;28;01melse\u001b[39;00m:\n\u001b[1;32m-> 1518\u001b[0m     \u001b[38;5;28;01mreturn\u001b[39;00m \u001b[38;5;28mself\u001b[39m\u001b[38;5;241m.\u001b[39m_call_impl(\u001b[38;5;241m*\u001b[39margs, \u001b[38;5;241m*\u001b[39m\u001b[38;5;241m*\u001b[39mkwargs)\n",
      "File \u001b[1;32m~\\AppData\\Roaming\\Python\\Python310\\site-packages\\torch\\nn\\modules\\module.py:1527\u001b[0m, in \u001b[0;36mModule._call_impl\u001b[1;34m(self, *args, **kwargs)\u001b[0m\n\u001b[0;32m   1522\u001b[0m \u001b[38;5;66;03m# If we don't have any hooks, we want to skip the rest of the logic in\u001b[39;00m\n\u001b[0;32m   1523\u001b[0m \u001b[38;5;66;03m# this function, and just call forward.\u001b[39;00m\n\u001b[0;32m   1524\u001b[0m \u001b[38;5;28;01mif\u001b[39;00m \u001b[38;5;129;01mnot\u001b[39;00m (\u001b[38;5;28mself\u001b[39m\u001b[38;5;241m.\u001b[39m_backward_hooks \u001b[38;5;129;01mor\u001b[39;00m \u001b[38;5;28mself\u001b[39m\u001b[38;5;241m.\u001b[39m_backward_pre_hooks \u001b[38;5;129;01mor\u001b[39;00m \u001b[38;5;28mself\u001b[39m\u001b[38;5;241m.\u001b[39m_forward_hooks \u001b[38;5;129;01mor\u001b[39;00m \u001b[38;5;28mself\u001b[39m\u001b[38;5;241m.\u001b[39m_forward_pre_hooks\n\u001b[0;32m   1525\u001b[0m         \u001b[38;5;129;01mor\u001b[39;00m _global_backward_pre_hooks \u001b[38;5;129;01mor\u001b[39;00m _global_backward_hooks\n\u001b[0;32m   1526\u001b[0m         \u001b[38;5;129;01mor\u001b[39;00m _global_forward_hooks \u001b[38;5;129;01mor\u001b[39;00m _global_forward_pre_hooks):\n\u001b[1;32m-> 1527\u001b[0m     \u001b[38;5;28;01mreturn\u001b[39;00m forward_call(\u001b[38;5;241m*\u001b[39margs, \u001b[38;5;241m*\u001b[39m\u001b[38;5;241m*\u001b[39mkwargs)\n\u001b[0;32m   1529\u001b[0m \u001b[38;5;28;01mtry\u001b[39;00m:\n\u001b[0;32m   1530\u001b[0m     result \u001b[38;5;241m=\u001b[39m \u001b[38;5;28;01mNone\u001b[39;00m\n",
      "File \u001b[1;32me:\\MY projects\\LangSHain\\venv\\lib\\site-packages\\sentence_transformers\\models\\Transformer.py:114\u001b[0m, in \u001b[0;36mTransformer.forward\u001b[1;34m(self, features, **kwargs)\u001b[0m\n\u001b[0;32m    112\u001b[0m \u001b[38;5;28;01mdef\u001b[39;00m \u001b[38;5;21mforward\u001b[39m(\u001b[38;5;28mself\u001b[39m, features: \u001b[38;5;28mdict\u001b[39m[\u001b[38;5;28mstr\u001b[39m, torch\u001b[38;5;241m.\u001b[39mTensor], \u001b[38;5;241m*\u001b[39m\u001b[38;5;241m*\u001b[39mkwargs) \u001b[38;5;241m-\u001b[39m\u001b[38;5;241m>\u001b[39m \u001b[38;5;28mdict\u001b[39m[\u001b[38;5;28mstr\u001b[39m, torch\u001b[38;5;241m.\u001b[39mTensor]:\n\u001b[0;32m    113\u001b[0m \u001b[38;5;250m    \u001b[39m\u001b[38;5;124;03m\"\"\"Returns token_embeddings, cls_token\"\"\"\u001b[39;00m\n\u001b[1;32m--> 114\u001b[0m     trans_features \u001b[38;5;241m=\u001b[39m {\u001b[38;5;124m\"\u001b[39m\u001b[38;5;124minput_ids\u001b[39m\u001b[38;5;124m\"\u001b[39m: \u001b[43mfeatures\u001b[49m\u001b[43m[\u001b[49m\u001b[38;5;124;43m\"\u001b[39;49m\u001b[38;5;124;43minput_ids\u001b[39;49m\u001b[38;5;124;43m\"\u001b[39;49m\u001b[43m]\u001b[49m, \u001b[38;5;124m\"\u001b[39m\u001b[38;5;124mattention_mask\u001b[39m\u001b[38;5;124m\"\u001b[39m: features[\u001b[38;5;124m\"\u001b[39m\u001b[38;5;124mattention_mask\u001b[39m\u001b[38;5;124m\"\u001b[39m]}\n\u001b[0;32m    115\u001b[0m     \u001b[38;5;28;01mif\u001b[39;00m \u001b[38;5;124m\"\u001b[39m\u001b[38;5;124mtoken_type_ids\u001b[39m\u001b[38;5;124m\"\u001b[39m \u001b[38;5;129;01min\u001b[39;00m features:\n\u001b[0;32m    116\u001b[0m         trans_features[\u001b[38;5;124m\"\u001b[39m\u001b[38;5;124mtoken_type_ids\u001b[39m\u001b[38;5;124m\"\u001b[39m] \u001b[38;5;241m=\u001b[39m features[\u001b[38;5;124m\"\u001b[39m\u001b[38;5;124mtoken_type_ids\u001b[39m\u001b[38;5;124m\"\u001b[39m]\n",
      "\u001b[1;31mIndexError\u001b[0m: too many indices for tensor of dimension 3"
     ]
    }
   ],
   "source": [
    "input_text = \"What are the latest advancements in artificial intelligence?\"\n",
    "predicted_category = predict_category(input_text, tokenizer, embedding_model, model, categories, device)\n",
    "print(f\"Predicted category: {predicted_category}\")\n",
    "\n",
    "sentence = \"This is an example sentence\"\n",
    "ex_embedding = model.encode(sentence)\n",
    "\n",
    "sentence_2 = \"This is a different example sentence\"\n",
    "ex_embedding_2 = model.encode(sentence)\n",
    "sim = model.similarity(ex_embedding, ex_embedding_2)\n",
    "type(sim), sim"
   ]
  },
  {
   "cell_type": "code",
   "execution_count": 92,
   "metadata": {},
   "outputs": [
    {
     "ename": "IndexError",
     "evalue": "too many indices for tensor of dimension 3",
     "output_type": "error",
     "traceback": [
      "\u001b[1;31m---------------------------------------------------------------------------\u001b[0m",
      "\u001b[1;31mIndexError\u001b[0m                                Traceback (most recent call last)",
      "Cell \u001b[1;32mIn[92], line 2\u001b[0m\n\u001b[0;32m      1\u001b[0m input_text \u001b[38;5;241m=\u001b[39m \u001b[38;5;124m\"\u001b[39m\u001b[38;5;124mWhat are the latest advancements in artificial intelligence?\u001b[39m\u001b[38;5;124m\"\u001b[39m\n\u001b[1;32m----> 2\u001b[0m predicted_category \u001b[38;5;241m=\u001b[39m \u001b[43mpredict_category\u001b[49m\u001b[43m(\u001b[49m\u001b[43minput_text\u001b[49m\u001b[43m,\u001b[49m\u001b[43m \u001b[49m\u001b[43mtokenizer\u001b[49m\u001b[43m,\u001b[49m\u001b[43m \u001b[49m\u001b[43membedding_model\u001b[49m\u001b[43m,\u001b[49m\u001b[43m \u001b[49m\u001b[43mmodel\u001b[49m\u001b[43m,\u001b[49m\u001b[43m \u001b[49m\u001b[43mcategories\u001b[49m\u001b[43m,\u001b[49m\u001b[43m \u001b[49m\u001b[43mdevice\u001b[49m\u001b[43m)\u001b[49m\n\u001b[0;32m      3\u001b[0m \u001b[38;5;28mprint\u001b[39m(\u001b[38;5;124mf\u001b[39m\u001b[38;5;124m\"\u001b[39m\u001b[38;5;124mPredicted category: \u001b[39m\u001b[38;5;132;01m{\u001b[39;00mpredicted_category\u001b[38;5;132;01m}\u001b[39;00m\u001b[38;5;124m\"\u001b[39m)\n\u001b[0;32m      5\u001b[0m \u001b[38;5;66;03m# Compute embedding for input text\u001b[39;00m\n",
      "Cell \u001b[1;32mIn[76], line 13\u001b[0m, in \u001b[0;36mpredict_category\u001b[1;34m(input_text, tokenizer, embedding_model, classifier_model, categories, device)\u001b[0m\n\u001b[0;32m     11\u001b[0m classifier_model\u001b[38;5;241m.\u001b[39meval()\n\u001b[0;32m     12\u001b[0m \u001b[38;5;28;01mwith\u001b[39;00m torch\u001b[38;5;241m.\u001b[39mno_grad():\n\u001b[1;32m---> 13\u001b[0m     outputs \u001b[38;5;241m=\u001b[39m \u001b[43mclassifier_model\u001b[49m\u001b[43m(\u001b[49m\u001b[43membeddings\u001b[49m\u001b[43m)\u001b[49m\n\u001b[0;32m     14\u001b[0m     _, predicted_idx \u001b[38;5;241m=\u001b[39m torch\u001b[38;5;241m.\u001b[39mmax(outputs, dim\u001b[38;5;241m=\u001b[39m\u001b[38;5;241m1\u001b[39m)\n\u001b[0;32m     16\u001b[0m \u001b[38;5;66;03m# Map the predicted index to the category name\u001b[39;00m\n",
      "File \u001b[1;32m~\\AppData\\Roaming\\Python\\Python310\\site-packages\\torch\\nn\\modules\\module.py:1518\u001b[0m, in \u001b[0;36mModule._wrapped_call_impl\u001b[1;34m(self, *args, **kwargs)\u001b[0m\n\u001b[0;32m   1516\u001b[0m     \u001b[38;5;28;01mreturn\u001b[39;00m \u001b[38;5;28mself\u001b[39m\u001b[38;5;241m.\u001b[39m_compiled_call_impl(\u001b[38;5;241m*\u001b[39margs, \u001b[38;5;241m*\u001b[39m\u001b[38;5;241m*\u001b[39mkwargs)  \u001b[38;5;66;03m# type: ignore[misc]\u001b[39;00m\n\u001b[0;32m   1517\u001b[0m \u001b[38;5;28;01melse\u001b[39;00m:\n\u001b[1;32m-> 1518\u001b[0m     \u001b[38;5;28;01mreturn\u001b[39;00m \u001b[38;5;28mself\u001b[39m\u001b[38;5;241m.\u001b[39m_call_impl(\u001b[38;5;241m*\u001b[39margs, \u001b[38;5;241m*\u001b[39m\u001b[38;5;241m*\u001b[39mkwargs)\n",
      "File \u001b[1;32m~\\AppData\\Roaming\\Python\\Python310\\site-packages\\torch\\nn\\modules\\module.py:1527\u001b[0m, in \u001b[0;36mModule._call_impl\u001b[1;34m(self, *args, **kwargs)\u001b[0m\n\u001b[0;32m   1522\u001b[0m \u001b[38;5;66;03m# If we don't have any hooks, we want to skip the rest of the logic in\u001b[39;00m\n\u001b[0;32m   1523\u001b[0m \u001b[38;5;66;03m# this function, and just call forward.\u001b[39;00m\n\u001b[0;32m   1524\u001b[0m \u001b[38;5;28;01mif\u001b[39;00m \u001b[38;5;129;01mnot\u001b[39;00m (\u001b[38;5;28mself\u001b[39m\u001b[38;5;241m.\u001b[39m_backward_hooks \u001b[38;5;129;01mor\u001b[39;00m \u001b[38;5;28mself\u001b[39m\u001b[38;5;241m.\u001b[39m_backward_pre_hooks \u001b[38;5;129;01mor\u001b[39;00m \u001b[38;5;28mself\u001b[39m\u001b[38;5;241m.\u001b[39m_forward_hooks \u001b[38;5;129;01mor\u001b[39;00m \u001b[38;5;28mself\u001b[39m\u001b[38;5;241m.\u001b[39m_forward_pre_hooks\n\u001b[0;32m   1525\u001b[0m         \u001b[38;5;129;01mor\u001b[39;00m _global_backward_pre_hooks \u001b[38;5;129;01mor\u001b[39;00m _global_backward_hooks\n\u001b[0;32m   1526\u001b[0m         \u001b[38;5;129;01mor\u001b[39;00m _global_forward_hooks \u001b[38;5;129;01mor\u001b[39;00m _global_forward_pre_hooks):\n\u001b[1;32m-> 1527\u001b[0m     \u001b[38;5;28;01mreturn\u001b[39;00m forward_call(\u001b[38;5;241m*\u001b[39margs, \u001b[38;5;241m*\u001b[39m\u001b[38;5;241m*\u001b[39mkwargs)\n\u001b[0;32m   1529\u001b[0m \u001b[38;5;28;01mtry\u001b[39;00m:\n\u001b[0;32m   1530\u001b[0m     result \u001b[38;5;241m=\u001b[39m \u001b[38;5;28;01mNone\u001b[39;00m\n",
      "File \u001b[1;32me:\\MY projects\\LangSHain\\venv\\lib\\site-packages\\sentence_transformers\\SentenceTransformer.py:668\u001b[0m, in \u001b[0;36mSentenceTransformer.forward\u001b[1;34m(self, input, **kwargs)\u001b[0m\n\u001b[0;32m    666\u001b[0m     module_kwarg_keys \u001b[38;5;241m=\u001b[39m \u001b[38;5;28mself\u001b[39m\u001b[38;5;241m.\u001b[39mmodule_kwargs\u001b[38;5;241m.\u001b[39mget(module_name, [])\n\u001b[0;32m    667\u001b[0m     module_kwargs \u001b[38;5;241m=\u001b[39m {key: value \u001b[38;5;28;01mfor\u001b[39;00m key, value \u001b[38;5;129;01min\u001b[39;00m kwargs\u001b[38;5;241m.\u001b[39mitems() \u001b[38;5;28;01mif\u001b[39;00m key \u001b[38;5;129;01min\u001b[39;00m module_kwarg_keys}\n\u001b[1;32m--> 668\u001b[0m     \u001b[38;5;28minput\u001b[39m \u001b[38;5;241m=\u001b[39m module(\u001b[38;5;28minput\u001b[39m, \u001b[38;5;241m*\u001b[39m\u001b[38;5;241m*\u001b[39mmodule_kwargs)\n\u001b[0;32m    669\u001b[0m \u001b[38;5;28;01mreturn\u001b[39;00m \u001b[38;5;28minput\u001b[39m\n",
      "File \u001b[1;32m~\\AppData\\Roaming\\Python\\Python310\\site-packages\\torch\\nn\\modules\\module.py:1518\u001b[0m, in \u001b[0;36mModule._wrapped_call_impl\u001b[1;34m(self, *args, **kwargs)\u001b[0m\n\u001b[0;32m   1516\u001b[0m     \u001b[38;5;28;01mreturn\u001b[39;00m \u001b[38;5;28mself\u001b[39m\u001b[38;5;241m.\u001b[39m_compiled_call_impl(\u001b[38;5;241m*\u001b[39margs, \u001b[38;5;241m*\u001b[39m\u001b[38;5;241m*\u001b[39mkwargs)  \u001b[38;5;66;03m# type: ignore[misc]\u001b[39;00m\n\u001b[0;32m   1517\u001b[0m \u001b[38;5;28;01melse\u001b[39;00m:\n\u001b[1;32m-> 1518\u001b[0m     \u001b[38;5;28;01mreturn\u001b[39;00m \u001b[38;5;28mself\u001b[39m\u001b[38;5;241m.\u001b[39m_call_impl(\u001b[38;5;241m*\u001b[39margs, \u001b[38;5;241m*\u001b[39m\u001b[38;5;241m*\u001b[39mkwargs)\n",
      "File \u001b[1;32m~\\AppData\\Roaming\\Python\\Python310\\site-packages\\torch\\nn\\modules\\module.py:1527\u001b[0m, in \u001b[0;36mModule._call_impl\u001b[1;34m(self, *args, **kwargs)\u001b[0m\n\u001b[0;32m   1522\u001b[0m \u001b[38;5;66;03m# If we don't have any hooks, we want to skip the rest of the logic in\u001b[39;00m\n\u001b[0;32m   1523\u001b[0m \u001b[38;5;66;03m# this function, and just call forward.\u001b[39;00m\n\u001b[0;32m   1524\u001b[0m \u001b[38;5;28;01mif\u001b[39;00m \u001b[38;5;129;01mnot\u001b[39;00m (\u001b[38;5;28mself\u001b[39m\u001b[38;5;241m.\u001b[39m_backward_hooks \u001b[38;5;129;01mor\u001b[39;00m \u001b[38;5;28mself\u001b[39m\u001b[38;5;241m.\u001b[39m_backward_pre_hooks \u001b[38;5;129;01mor\u001b[39;00m \u001b[38;5;28mself\u001b[39m\u001b[38;5;241m.\u001b[39m_forward_hooks \u001b[38;5;129;01mor\u001b[39;00m \u001b[38;5;28mself\u001b[39m\u001b[38;5;241m.\u001b[39m_forward_pre_hooks\n\u001b[0;32m   1525\u001b[0m         \u001b[38;5;129;01mor\u001b[39;00m _global_backward_pre_hooks \u001b[38;5;129;01mor\u001b[39;00m _global_backward_hooks\n\u001b[0;32m   1526\u001b[0m         \u001b[38;5;129;01mor\u001b[39;00m _global_forward_hooks \u001b[38;5;129;01mor\u001b[39;00m _global_forward_pre_hooks):\n\u001b[1;32m-> 1527\u001b[0m     \u001b[38;5;28;01mreturn\u001b[39;00m forward_call(\u001b[38;5;241m*\u001b[39margs, \u001b[38;5;241m*\u001b[39m\u001b[38;5;241m*\u001b[39mkwargs)\n\u001b[0;32m   1529\u001b[0m \u001b[38;5;28;01mtry\u001b[39;00m:\n\u001b[0;32m   1530\u001b[0m     result \u001b[38;5;241m=\u001b[39m \u001b[38;5;28;01mNone\u001b[39;00m\n",
      "File \u001b[1;32me:\\MY projects\\LangSHain\\venv\\lib\\site-packages\\sentence_transformers\\models\\Transformer.py:114\u001b[0m, in \u001b[0;36mTransformer.forward\u001b[1;34m(self, features, **kwargs)\u001b[0m\n\u001b[0;32m    112\u001b[0m \u001b[38;5;28;01mdef\u001b[39;00m \u001b[38;5;21mforward\u001b[39m(\u001b[38;5;28mself\u001b[39m, features: \u001b[38;5;28mdict\u001b[39m[\u001b[38;5;28mstr\u001b[39m, torch\u001b[38;5;241m.\u001b[39mTensor], \u001b[38;5;241m*\u001b[39m\u001b[38;5;241m*\u001b[39mkwargs) \u001b[38;5;241m-\u001b[39m\u001b[38;5;241m>\u001b[39m \u001b[38;5;28mdict\u001b[39m[\u001b[38;5;28mstr\u001b[39m, torch\u001b[38;5;241m.\u001b[39mTensor]:\n\u001b[0;32m    113\u001b[0m \u001b[38;5;250m    \u001b[39m\u001b[38;5;124;03m\"\"\"Returns token_embeddings, cls_token\"\"\"\u001b[39;00m\n\u001b[1;32m--> 114\u001b[0m     trans_features \u001b[38;5;241m=\u001b[39m {\u001b[38;5;124m\"\u001b[39m\u001b[38;5;124minput_ids\u001b[39m\u001b[38;5;124m\"\u001b[39m: \u001b[43mfeatures\u001b[49m\u001b[43m[\u001b[49m\u001b[38;5;124;43m\"\u001b[39;49m\u001b[38;5;124;43minput_ids\u001b[39;49m\u001b[38;5;124;43m\"\u001b[39;49m\u001b[43m]\u001b[49m, \u001b[38;5;124m\"\u001b[39m\u001b[38;5;124mattention_mask\u001b[39m\u001b[38;5;124m\"\u001b[39m: features[\u001b[38;5;124m\"\u001b[39m\u001b[38;5;124mattention_mask\u001b[39m\u001b[38;5;124m\"\u001b[39m]}\n\u001b[0;32m    115\u001b[0m     \u001b[38;5;28;01mif\u001b[39;00m \u001b[38;5;124m\"\u001b[39m\u001b[38;5;124mtoken_type_ids\u001b[39m\u001b[38;5;124m\"\u001b[39m \u001b[38;5;129;01min\u001b[39;00m features:\n\u001b[0;32m    116\u001b[0m         trans_features[\u001b[38;5;124m\"\u001b[39m\u001b[38;5;124mtoken_type_ids\u001b[39m\u001b[38;5;124m\"\u001b[39m] \u001b[38;5;241m=\u001b[39m features[\u001b[38;5;124m\"\u001b[39m\u001b[38;5;124mtoken_type_ids\u001b[39m\u001b[38;5;124m\"\u001b[39m]\n",
      "\u001b[1;31mIndexError\u001b[0m: too many indices for tensor of dimension 3"
     ]
    }
   ],
   "source": [
    "input_text = \"What are the latest advancements in artificial intelligence?\"\n",
    "predicted_category = predict_category(input_text, tokenizer, embedding_model, model, categories, device)\n",
    "print(f\"Predicted category: {predicted_category}\")\n",
    "\n",
    "# Compute embedding for input text\n",
    "input_embedding = model.encode(input_text)\n",
    "\n",
    "    # Filter articles by category\n",
    "category_articles = [article for article in news if article['category'] == predicted_category]\n",
    "\n",
    "    # Calculate similarity and store results\n",
    "similarities = []\n",
    "for article in category_articles:\n",
    "    article_embedding = model.encode(article['headline'])\n",
    "    similarity = cosine_similarity([input_embedding], [article_embedding])[0][0]\n",
    "    similarities.append((article, similarity))\n",
    "\n",
    "# Sort by similarity and select top N\n",
    "sorted_articles = sorted(similarities, key=lambda x: x[1], reverse=True)\n",
    "top_articles = [article for article, _ in sorted_articles[:top_n]]\n",
    "print(top_articles)"
   ]
  },
  {
   "cell_type": "code",
   "execution_count": 197,
   "metadata": {},
   "outputs": [
    {
     "name": "stdout",
     "output_type": "stream",
     "text": [
      "(384,)\n"
     ]
    }
   ],
   "source": [
    "embedded_sentences = [model.encode(text) for (text, cat) in text_cat_pairs]\n",
    "print(embedded_sentences[42].shape)"
   ]
  },
  {
   "cell_type": "code",
   "execution_count": 198,
   "metadata": {},
   "outputs": [
    {
     "name": "stdout",
     "output_type": "stream",
     "text": [
      "The history saving thread hit an unexpected error (OperationalError('database or disk is full')).History will not be written to the database.\n"
     ]
    },
    {
     "data": {
      "text/plain": [
       "((22000, 384), dtype('float32'))"
      ]
     },
     "execution_count": 198,
     "metadata": {},
     "output_type": "execute_result"
    }
   ],
   "source": [
    "import numpy as np\n",
    "embeddings = np.array(embedded_sentences)\n",
    "embeddings.shape, embeddings.dtype"
   ]
  },
  {
   "cell_type": "code",
   "execution_count": 202,
   "metadata": {},
   "outputs": [],
   "source": [
    "# use FAISS to create an index using IndexHNSWFlat with all embeddings in embedded_sentences\n",
    "\n",
    "import faiss\n",
    "\n",
    "# Create the index\n",
    "d = embeddings.shape[1]  # Dimension of the embeddings\n",
    "num_connections = 8 # number of connections each vertex will have\n",
    "index = faiss.IndexHNSWFlat(d, num_connections)\n",
    "index.add(embeddings)"
   ]
  },
  {
   "cell_type": "code",
   "execution_count": 203,
   "metadata": {},
   "outputs": [
    {
     "data": {
      "text/plain": [
       "22000"
      ]
     },
     "execution_count": 203,
     "metadata": {},
     "output_type": "execute_result"
    }
   ],
   "source": [
    "index.ntotal"
   ]
  },
  {
   "cell_type": "code",
   "execution_count": 204,
   "metadata": {},
   "outputs": [
    {
     "data": {
      "text/plain": [
       "'Puppy Starts House Fire, Sits On The Couch And Watches It All Burn || Los Alamos County Fire Department in New Mexico recommends that the pup should perhaps enroll in a youth firesetting intervention program.'"
      ]
     },
     "execution_count": 204,
     "metadata": {},
     "output_type": "execute_result"
    }
   ],
   "source": [
    "text_cat_pairs[90][0]"
   ]
  },
  {
   "cell_type": "code",
   "execution_count": 59,
   "metadata": {},
   "outputs": [
    {
     "data": {
      "text/plain": [
       "(1, 384)"
      ]
     },
     "execution_count": 59,
     "metadata": {},
     "output_type": "execute_result"
    }
   ],
   "source": [
    "# reshape the embedding from (384,) to (1, 384)\n",
    "embedding_reshaped = embeddings[42].astype('float32').reshape(1, -1)\n",
    "embedding_reshaped.shape"
   ]
  },
  {
   "cell_type": "code",
   "execution_count": 205,
   "metadata": {},
   "outputs": [
    {
     "data": {
      "text/plain": [
       "dtype('float32')"
      ]
     },
     "execution_count": 205,
     "metadata": {},
     "output_type": "execute_result"
    }
   ],
   "source": [
    "embedding_reshaped.dtype"
   ]
  },
  {
   "cell_type": "code",
   "execution_count": 61,
   "metadata": {},
   "outputs": [
    {
     "name": "stdout",
     "output_type": "stream",
     "text": [
      "Text at index 42 has distance 0.0 to the input text.\n",
      "Text at index 37 has distance 0.7410087585449219 to the input text.\n",
      "Text at index 3192 has distance 0.9261242151260376 to the input text.\n",
      "Text at index 5279 has distance 0.9268099069595337 to the input text.\n"
     ]
    }
   ],
   "source": [
    "# approximate nearest neighbor search\n",
    "top_k = 4 # number of nearest neighbours to retrieve\n",
    "D, I = index.search(embedding_reshaped, top_k)\n",
    "\n",
    "for dist, index in zip(D[0], I[0]):\n",
    "    print(f\"Text at index {index} has distance {dist} to the input text.\")"
   ]
  },
  {
   "cell_type": "code",
   "execution_count": 62,
   "metadata": {},
   "outputs": [
    {
     "name": "stdout",
     "output_type": "stream",
     "text": [
      "(\"Racism Seen As Root Of Water Crisis In Mississippi Capital || A boil-water advisory has been lifted for Mississippi's capital, and the state will stop handing out free bottled water on Saturday.\", 'U.S. NEWS')\n",
      "\n",
      "('Privatization Isn’t The Answer To Jackson’s Water Crisis || Studies have repeatedly shown that ending public administration of water supplies doesn’t work — but that’s now on the table in Mississippi.', 'ENVIRONMENT')\n",
      "\n",
      "('Some Electricity Restored In Texas, But Water Woes Grow || The crisis is far from over in parts of the South, where many people still lack safe drinking water.', 'U.S. NEWS')\n",
      "\n",
      "('Mississippi Braces For More Rain As Hundreds Of Homes Flooded In Jackson Area || Gov. Tate Reeves has warned Mississippians that the state is “not in the clear yet.”', 'U.S. NEWS')\n",
      "\n"
     ]
    }
   ],
   "source": [
    "for index in I[0]:\n",
    "    print(text_cat_pairs[index])\n",
    "    print()"
   ]
  },
  {
   "cell_type": "code",
   "execution_count": 63,
   "metadata": {},
   "outputs": [
    {
     "name": "stdout",
     "output_type": "stream",
     "text": [
      "Racism Seen As Root Of Water Crisis In Mississippi Capital || A boil-water advisory has been lifted for Mississippi's capital, and the state will stop handing out free bottled water on Saturday.\n",
      "Privatization Isn’t The Answer To Jackson’s Water Crisis || Studies have repeatedly shown that ending public administration of water supplies doesn’t work — but that’s now on the table in Mississippi.\n",
      "Some Electricity Restored In Texas, But Water Woes Grow || The crisis is far from over in parts of the South, where many people still lack safe drinking water.\n",
      "Mississippi Braces For More Rain As Hundreds Of Homes Flooded In Jackson Area || Gov. Tate Reeves has warned Mississippians that the state is “not in the clear yet.”\n"
     ]
    }
   ],
   "source": [
    "complete_text = \"\\n\".join([text_cat_pairs[i][0] for i in I[0]])\n",
    "print(complete_text)"
   ]
  },
  {
   "cell_type": "code",
   "execution_count": 64,
   "metadata": {},
   "outputs": [],
   "source": [
    "prompt = \"Summarize the following text:\\n\" + complete_text"
   ]
  },
  {
   "cell_type": "code",
   "execution_count": 65,
   "metadata": {},
   "outputs": [
    {
     "name": "stderr",
     "output_type": "stream",
     "text": [
      "e:\\MY projects\\LangSHain\\venv\\lib\\site-packages\\huggingface_hub\\file_download.py:147: UserWarning: `huggingface_hub` cache-system uses symlinks by default to efficiently store duplicated files but your machine does not support them in C:\\Users\\Lenovo\\.cache\\huggingface\\hub\\models--pszemraj--led-base-book-summary. Caching files will still work but in a degraded version that might require more space on your disk. This warning can be disabled by setting the `HF_HUB_DISABLE_SYMLINKS_WARNING` environment variable. For more details, see https://huggingface.co/docs/huggingface_hub/how-to-cache#limitations.\n",
      "To support symlinks on Windows, you either need to activate Developer Mode or to run Python as an administrator. In order to activate developer mode, see this article: https://docs.microsoft.com/en-us/windows/apps/get-started/enable-your-device-for-development\n",
      "  warnings.warn(message)\n"
     ]
    }
   ],
   "source": [
    "from transformers import pipeline\n",
    "\n",
    "summarizer = pipeline(\"summarization\", \"pszemraj/led-base-book-summary\")"
   ]
  },
  {
   "cell_type": "code",
   "execution_count": 68,
   "metadata": {},
   "outputs": [],
   "source": [
    "summary = summarizer(\n",
    "    prompt,\n",
    "    min_length=8,\n",
    "    max_length=80,\n",
    "    repetition_penalty=2.0,\n",
    "    num_beams=4,\n",
    "    temperature=1.5,\n",
    "    top_k=30,\n",
    "    top_p=0.5,\n",
    "    do_sample=True,\n",
    "    early_stopping=True,\n",
    ")"
   ]
  },
  {
   "cell_type": "code",
   "execution_count": 69,
   "metadata": {},
   "outputs": [
    {
     "data": {
      "text/plain": [
       "[{'summary_text': \"A boil-water advisory has been lifted for Mississippi's capital, and the state will stop handing out free bottled water on Saturday. Gov. Tate Reeves warns Mississippians that privatization isn't the answer to Jackson's water crisis. Studies have repeatedly shown that ending public administration of water supplies doesn’t work - but that’s now on the table in Mississippi. Some electricity is\"}]"
      ]
     },
     "execution_count": 69,
     "metadata": {},
     "output_type": "execute_result"
    }
   ],
   "source": [
    "summary"
   ]
  },
  {
   "cell_type": "code",
   "execution_count": null,
   "metadata": {},
   "outputs": [],
   "source": []
  }
 ],
 "metadata": {
  "colab": {
   "provenance": []
  },
  "kernelspec": {
   "display_name": "Python 3",
   "language": "python",
   "name": "python3"
  },
  "language_info": {
   "codemirror_mode": {
    "name": "ipython",
    "version": 3
   },
   "file_extension": ".py",
   "mimetype": "text/x-python",
   "name": "python",
   "nbconvert_exporter": "python",
   "pygments_lexer": "ipython3",
   "version": "3.10.15"
  }
 },
 "nbformat": 4,
 "nbformat_minor": 0
}
